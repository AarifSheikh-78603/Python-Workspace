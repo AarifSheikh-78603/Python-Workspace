{
  "nbformat": 4,
  "nbformat_minor": 0,
  "metadata": {
    "colab": {
      "provenance": [],
      "collapsed_sections": [
        "Xg9qkdOqFSPy",
        "7SDyD_0H9Jfm",
        "U4OB1WMY9OqS",
        "dwk0jpZ79W_Q",
        "vD423MAt9m8p",
        "c7SI3v0i9z5A",
        "4bg6rtRe-TpE",
        "sd2Zbf8a_sWS",
        "31AqpNm0_y2J",
        "bHFwQ9_2_19B",
        "9WKKPfpzADwN",
        "VUetlmp1Asoi",
        "kWG5dQ1RFd8w",
        "RhTm1qJaBwFg",
        "74FhVGgOBz5B",
        "rAlpj28RCCFV",
        "ehSxBR81CQ3z",
        "10mMpS2OCvlI",
        "WfcCYVe6D1hj",
        "4axFFab4EIkw",
        "T7o0J8r_EW0_",
        "Hp-DBb1JEc0G",
        "GcvMyaNHEuN7",
        "TS9Pmp6FE9wK"
      ],
      "authorship_tag": "ABX9TyPYjbgiJEiIdM2yARQQx2hl",
      "include_colab_link": true
    },
    "kernelspec": {
      "name": "python3",
      "display_name": "Python 3"
    },
    "language_info": {
      "name": "python"
    }
  },
  "cells": [
    {
      "cell_type": "markdown",
      "metadata": {
        "id": "view-in-github",
        "colab_type": "text"
      },
      "source": [
        "<a href=\"https://colab.research.google.com/github/AarifSheikh-78603/Python-Workspace/blob/main/Tuple.ipynb\" target=\"_parent\"><img src=\"https://colab.research.google.com/assets/colab-badge.svg\" alt=\"Open In Colab\"/></a>"
      ]
    },
    {
      "cell_type": "markdown",
      "source": [
        "# Create a Tuple"
      ],
      "metadata": {
        "id": "Xg9qkdOqFSPy"
      }
    },
    {
      "cell_type": "markdown",
      "source": [
        "## Create an empty Tuple"
      ],
      "metadata": {
        "id": "7SDyD_0H9Jfm"
      }
    },
    {
      "cell_type": "code",
      "execution_count": null,
      "metadata": {
        "colab": {
          "base_uri": "https://localhost:8080/"
        },
        "id": "UZ5gdhV48k8s",
        "outputId": "072b9334-a6b9-4302-eb26-f0ead48e54f5"
      },
      "outputs": [
        {
          "output_type": "execute_result",
          "data": {
            "text/plain": [
              "()"
            ]
          },
          "metadata": {},
          "execution_count": 1
        }
      ],
      "source": [
        "T1=()\n",
        "T1"
      ]
    },
    {
      "cell_type": "code",
      "source": [
        "T1=tuple()\n",
        "T1"
      ],
      "metadata": {
        "colab": {
          "base_uri": "https://localhost:8080/"
        },
        "id": "pNhfpJS38_gu",
        "outputId": "ad11f338-1238-4764-ba09-9bdb7b07b802"
      },
      "execution_count": null,
      "outputs": [
        {
          "output_type": "execute_result",
          "data": {
            "text/plain": [
              "()"
            ]
          },
          "metadata": {},
          "execution_count": 2
        }
      ]
    },
    {
      "cell_type": "markdown",
      "source": [
        "## Create a tuole with integer values"
      ],
      "metadata": {
        "id": "U4OB1WMY9OqS"
      }
    },
    {
      "cell_type": "code",
      "source": [
        "T1=(1,2,3,4,5)\n",
        "T1"
      ],
      "metadata": {
        "colab": {
          "base_uri": "https://localhost:8080/"
        },
        "id": "im7fgtQ69TXf",
        "outputId": "7a4e2027-4234-4c0c-962a-f4572f072fea"
      },
      "execution_count": null,
      "outputs": [
        {
          "output_type": "execute_result",
          "data": {
            "text/plain": [
              "(1, 2, 3, 4, 5)"
            ]
          },
          "metadata": {},
          "execution_count": 3
        }
      ]
    },
    {
      "cell_type": "code",
      "source": [
        "T1=tuple((1,2,3,4,5))\n",
        "T1"
      ],
      "metadata": {
        "colab": {
          "base_uri": "https://localhost:8080/"
        },
        "id": "eTKta79v9eWa",
        "outputId": "9b2e94ec-6113-4bcf-de70-c198c38c7582"
      },
      "execution_count": null,
      "outputs": [
        {
          "output_type": "execute_result",
          "data": {
            "text/plain": [
              "(1, 2, 3, 4, 5)"
            ]
          },
          "metadata": {},
          "execution_count": 5
        }
      ]
    },
    {
      "cell_type": "markdown",
      "source": [
        "## Create a tuple with string values"
      ],
      "metadata": {
        "id": "dwk0jpZ79W_Q"
      }
    },
    {
      "cell_type": "code",
      "source": [
        "T1=('a','b','c','d','e')\n",
        "T1"
      ],
      "metadata": {
        "colab": {
          "base_uri": "https://localhost:8080/"
        },
        "id": "WbuIXldQ9aVH",
        "outputId": "b8ea30f1-3bd7-4935-a3b3-07090d47b28f"
      },
      "execution_count": null,
      "outputs": [
        {
          "output_type": "execute_result",
          "data": {
            "text/plain": [
              "('a', 'b', 'c', 'd', 'e')"
            ]
          },
          "metadata": {},
          "execution_count": 6
        }
      ]
    },
    {
      "cell_type": "code",
      "source": [
        "T1=tuple(('a','b','c','d','e'))\n",
        "T1"
      ],
      "metadata": {
        "colab": {
          "base_uri": "https://localhost:8080/"
        },
        "id": "WifnY9Z09hKu",
        "outputId": "ae2d1d43-df69-425f-b1e8-0b322cfb329f"
      },
      "execution_count": null,
      "outputs": [
        {
          "output_type": "execute_result",
          "data": {
            "text/plain": [
              "('a', 'b', 'c', 'd', 'e')"
            ]
          },
          "metadata": {},
          "execution_count": 7
        }
      ]
    },
    {
      "cell_type": "markdown",
      "source": [
        "## Create a tuple with mixed data"
      ],
      "metadata": {
        "id": "vD423MAt9m8p"
      }
    },
    {
      "cell_type": "code",
      "source": [
        "T1=(1,'a',2,'b',3,'c')\n",
        "T1"
      ],
      "metadata": {
        "colab": {
          "base_uri": "https://localhost:8080/"
        },
        "id": "Tt9wuTW_9q5F",
        "outputId": "0b231397-b12d-470d-f4d0-f99588b74655"
      },
      "execution_count": null,
      "outputs": [
        {
          "output_type": "execute_result",
          "data": {
            "text/plain": [
              "(1, 'a', 2, 'b', 3, 'c')"
            ]
          },
          "metadata": {},
          "execution_count": 8
        }
      ]
    },
    {
      "cell_type": "code",
      "source": [
        "T1=tuple((1,'a',2,'b',3,'c'))\n",
        "T1"
      ],
      "metadata": {
        "colab": {
          "base_uri": "https://localhost:8080/"
        },
        "id": "SHBSm2kJ9tjJ",
        "outputId": "81d34f79-d5e5-4cb3-8e6e-6d94a8b3d2d4"
      },
      "execution_count": null,
      "outputs": [
        {
          "output_type": "execute_result",
          "data": {
            "text/plain": [
              "(1, 'a', 2, 'b', 3, 'c')"
            ]
          },
          "metadata": {},
          "execution_count": 9
        }
      ]
    },
    {
      "cell_type": "markdown",
      "source": [
        "## Create tuple without parenthesis"
      ],
      "metadata": {
        "id": "c7SI3v0i9z5A"
      }
    },
    {
      "cell_type": "code",
      "source": [
        "T1=10,20,30,40,50\n",
        "T1"
      ],
      "metadata": {
        "colab": {
          "base_uri": "https://localhost:8080/"
        },
        "id": "56Hco0Cw957Q",
        "outputId": "de2d1bea-d26c-45e7-dbaf-10b31f8bd1f8"
      },
      "execution_count": null,
      "outputs": [
        {
          "output_type": "execute_result",
          "data": {
            "text/plain": [
              "(10, 20, 30, 40, 50)"
            ]
          },
          "metadata": {},
          "execution_count": 12
        }
      ]
    },
    {
      "cell_type": "code",
      "source": [
        "type(T1)"
      ],
      "metadata": {
        "colab": {
          "base_uri": "https://localhost:8080/"
        },
        "id": "Vxf1m0xs-JxR",
        "outputId": "d3cefd24-abae-4bad-d6ee-14f62b3a4ed0"
      },
      "execution_count": null,
      "outputs": [
        {
          "output_type": "execute_result",
          "data": {
            "text/plain": [
              "tuple"
            ]
          },
          "metadata": {},
          "execution_count": 13
        }
      ]
    },
    {
      "cell_type": "markdown",
      "source": [
        "# Accessing Values In Tuple"
      ],
      "metadata": {
        "id": "4bg6rtRe-TpE"
      }
    },
    {
      "cell_type": "code",
      "source": [
        "Tuple1=(226, 164, 161, 173, 215, 156, 145, 135, 147)\n",
        "Tuple1"
      ],
      "metadata": {
        "colab": {
          "base_uri": "https://localhost:8080/"
        },
        "id": "x_jhzssn-Svw",
        "outputId": "4b8b1c06-f9f5-4a43-fafa-1c3d72c6e831"
      },
      "execution_count": null,
      "outputs": [
        {
          "output_type": "execute_result",
          "data": {
            "text/plain": [
              "(226, 164, 161, 173, 215, 156, 145, 135, 147)"
            ]
          },
          "metadata": {},
          "execution_count": 14
        }
      ]
    },
    {
      "cell_type": "markdown",
      "source": [
        "## Access 1st element of the tuple"
      ],
      "metadata": {
        "id": "sd2Zbf8a_sWS"
      }
    },
    {
      "cell_type": "code",
      "source": [
        "Tuple1[0]"
      ],
      "metadata": {
        "colab": {
          "base_uri": "https://localhost:8080/"
        },
        "id": "6EV18jpD_eTl",
        "outputId": "3d47af73-0916-4265-c949-3f8d4303b7a9"
      },
      "execution_count": null,
      "outputs": [
        {
          "output_type": "execute_result",
          "data": {
            "text/plain": [
              "226"
            ]
          },
          "metadata": {},
          "execution_count": 15
        }
      ]
    },
    {
      "cell_type": "markdown",
      "source": [
        "## Access last element of the tuple"
      ],
      "metadata": {
        "id": "31AqpNm0_y2J"
      }
    },
    {
      "cell_type": "code",
      "source": [
        "Tuple1[-1]"
      ],
      "metadata": {
        "colab": {
          "base_uri": "https://localhost:8080/"
        },
        "id": "nQ_MMdvj_h0p",
        "outputId": "5b48685e-03ab-4738-d3da-a5f70b6791ce"
      },
      "execution_count": null,
      "outputs": [
        {
          "output_type": "execute_result",
          "data": {
            "text/plain": [
              "147"
            ]
          },
          "metadata": {},
          "execution_count": 16
        }
      ]
    },
    {
      "cell_type": "markdown",
      "source": [
        "## Access specific index element of the tuple"
      ],
      "metadata": {
        "id": "bHFwQ9_2_19B"
      }
    },
    {
      "cell_type": "code",
      "source": [
        "Tuple1[3]"
      ],
      "metadata": {
        "colab": {
          "base_uri": "https://localhost:8080/"
        },
        "id": "UuHakbYF_mvp",
        "outputId": "4c7f9b39-e314-4126-fcba-4e17cd51513f"
      },
      "execution_count": null,
      "outputs": [
        {
          "output_type": "execute_result",
          "data": {
            "text/plain": [
              "173"
            ]
          },
          "metadata": {},
          "execution_count": 17
        }
      ]
    },
    {
      "cell_type": "markdown",
      "source": [
        "## Access multiple elements"
      ],
      "metadata": {
        "id": "9WKKPfpzADwN"
      }
    },
    {
      "cell_type": "code",
      "source": [
        "Tuple1[2:5]"
      ],
      "metadata": {
        "colab": {
          "base_uri": "https://localhost:8080/"
        },
        "id": "p0XDLF9IAJIx",
        "outputId": "a4e9ee76-1b01-4b9c-ada1-186d65001159"
      },
      "execution_count": null,
      "outputs": [
        {
          "output_type": "execute_result",
          "data": {
            "text/plain": [
              "(161, 173, 215)"
            ]
          },
          "metadata": {},
          "execution_count": 18
        }
      ]
    },
    {
      "cell_type": "code",
      "source": [
        "Tuple1[2:]"
      ],
      "metadata": {
        "colab": {
          "base_uri": "https://localhost:8080/"
        },
        "id": "Ss16_3bAANBT",
        "outputId": "4d51b5cf-ba60-4a66-a2da-a113144dee0b"
      },
      "execution_count": null,
      "outputs": [
        {
          "output_type": "execute_result",
          "data": {
            "text/plain": [
              "(161, 173, 215, 156, 145, 135, 147)"
            ]
          },
          "metadata": {},
          "execution_count": 19
        }
      ]
    },
    {
      "cell_type": "code",
      "source": [
        "Tuple1[:2]"
      ],
      "metadata": {
        "colab": {
          "base_uri": "https://localhost:8080/"
        },
        "id": "EUyR998VAP8n",
        "outputId": "4b2922d4-023d-492a-c1fd-68c994d79d18"
      },
      "execution_count": null,
      "outputs": [
        {
          "output_type": "execute_result",
          "data": {
            "text/plain": [
              "(226, 164)"
            ]
          },
          "metadata": {},
          "execution_count": 20
        }
      ]
    },
    {
      "cell_type": "markdown",
      "source": [
        "# Updating Tuple"
      ],
      "metadata": {
        "id": "VUetlmp1Asoi"
      }
    },
    {
      "cell_type": "code",
      "source": [
        "Tuple1"
      ],
      "metadata": {
        "colab": {
          "base_uri": "https://localhost:8080/"
        },
        "id": "pzFsLe17Ax9r",
        "outputId": "3c792d7b-1233-48c9-c420-f9ed9b97adb0"
      },
      "execution_count": null,
      "outputs": [
        {
          "output_type": "execute_result",
          "data": {
            "text/plain": [
              "(226, 164, 161, 173, 215, 156, 145, 135, 147)"
            ]
          },
          "metadata": {},
          "execution_count": 21
        }
      ]
    },
    {
      "cell_type": "markdown",
      "source": [
        "## 'tuple' object does not support item assignment\n"
      ],
      "metadata": {
        "id": "kWG5dQ1RFd8w"
      }
    },
    {
      "cell_type": "code",
      "source": [
        "Tuple1[0]=100"
      ],
      "metadata": {
        "colab": {
          "base_uri": "https://localhost:8080/",
          "height": 141
        },
        "id": "SNTtHwLcA6WM",
        "outputId": "1657194e-43c0-4d4e-cc1c-cc3170eb7b17"
      },
      "execution_count": null,
      "outputs": [
        {
          "output_type": "error",
          "ename": "TypeError",
          "evalue": "'tuple' object does not support item assignment",
          "traceback": [
            "\u001b[0;31m---------------------------------------------------------------------------\u001b[0m",
            "\u001b[0;31mTypeError\u001b[0m                                 Traceback (most recent call last)",
            "\u001b[0;32m<ipython-input-23-541a7e76e1f2>\u001b[0m in \u001b[0;36m<cell line: 1>\u001b[0;34m()\u001b[0m\n\u001b[0;32m----> 1\u001b[0;31m \u001b[0mTuple1\u001b[0m\u001b[0;34m[\u001b[0m\u001b[0;36m0\u001b[0m\u001b[0;34m]\u001b[0m\u001b[0;34m=\u001b[0m\u001b[0;36m100\u001b[0m\u001b[0;34m\u001b[0m\u001b[0;34m\u001b[0m\u001b[0m\n\u001b[0m",
            "\u001b[0;31mTypeError\u001b[0m: 'tuple' object does not support item assignment"
          ]
        }
      ]
    },
    {
      "cell_type": "code",
      "source": [
        "Tuple1"
      ],
      "metadata": {
        "colab": {
          "base_uri": "https://localhost:8080/"
        },
        "id": "xshq-FrlBPRm",
        "outputId": "dc5c8c18-9ba7-4673-8d17-9480eb57da52"
      },
      "execution_count": null,
      "outputs": [
        {
          "output_type": "execute_result",
          "data": {
            "text/plain": [
              "(226, 164, 161, 173, 215, 156, 145, 135, 147)"
            ]
          },
          "metadata": {},
          "execution_count": 24
        }
      ]
    },
    {
      "cell_type": "code",
      "source": [
        "List1=list(Tuple1)\n",
        "List1"
      ],
      "metadata": {
        "colab": {
          "base_uri": "https://localhost:8080/"
        },
        "id": "ppGiXaxDBTsj",
        "outputId": "4407637c-e13e-485a-8075-c8c0c7297f49"
      },
      "execution_count": null,
      "outputs": [
        {
          "output_type": "execute_result",
          "data": {
            "text/plain": [
              "[226, 164, 161, 173, 215, 156, 145, 135, 147]"
            ]
          },
          "metadata": {},
          "execution_count": 25
        }
      ]
    },
    {
      "cell_type": "code",
      "source": [
        "List1[0]=100\n",
        "List1"
      ],
      "metadata": {
        "colab": {
          "base_uri": "https://localhost:8080/"
        },
        "id": "9kTW8sVyBYvH",
        "outputId": "7d8c0a94-449a-4efa-d79d-af617478e505"
      },
      "execution_count": null,
      "outputs": [
        {
          "output_type": "execute_result",
          "data": {
            "text/plain": [
              "[100, 164, 161, 173, 215, 156, 145, 135, 147]"
            ]
          },
          "metadata": {},
          "execution_count": 26
        }
      ]
    },
    {
      "cell_type": "code",
      "source": [
        "Tuple2=tuple(List1)\n",
        "Tuple2"
      ],
      "metadata": {
        "colab": {
          "base_uri": "https://localhost:8080/"
        },
        "id": "VjuX1qCVBjg9",
        "outputId": "e6e48186-dce8-4c99-83df-1e106909efce"
      },
      "execution_count": null,
      "outputs": [
        {
          "output_type": "execute_result",
          "data": {
            "text/plain": [
              "(100, 164, 161, 173, 215, 156, 145, 135, 147)"
            ]
          },
          "metadata": {},
          "execution_count": 27
        }
      ]
    },
    {
      "cell_type": "markdown",
      "source": [
        "#Tuple Operation"
      ],
      "metadata": {
        "id": "RhTm1qJaBwFg"
      }
    },
    {
      "cell_type": "markdown",
      "source": [
        "## Concatenation Operation"
      ],
      "metadata": {
        "id": "74FhVGgOBz5B"
      }
    },
    {
      "cell_type": "code",
      "source": [
        "T1=(1,2,3,4,5)\n",
        "T1"
      ],
      "metadata": {
        "colab": {
          "base_uri": "https://localhost:8080/"
        },
        "id": "NEYsocoJB4bx",
        "outputId": "637f74e4-822e-4375-8493-4d226f01c6d8"
      },
      "execution_count": null,
      "outputs": [
        {
          "output_type": "execute_result",
          "data": {
            "text/plain": [
              "(1, 2, 3, 4, 5)"
            ]
          },
          "metadata": {},
          "execution_count": 28
        }
      ]
    },
    {
      "cell_type": "code",
      "source": [
        "T2=('a','b','c','d','e')\n",
        "T2"
      ],
      "metadata": {
        "colab": {
          "base_uri": "https://localhost:8080/"
        },
        "id": "PDwUppnwB7EM",
        "outputId": "09c0fb97-f2f0-4737-bcec-9f1507daf26b"
      },
      "execution_count": null,
      "outputs": [
        {
          "output_type": "execute_result",
          "data": {
            "text/plain": [
              "('a', 'b', 'c', 'd', 'e')"
            ]
          },
          "metadata": {},
          "execution_count": 29
        }
      ]
    },
    {
      "cell_type": "code",
      "source": [
        "T3=T1+T2\n",
        "T3"
      ],
      "metadata": {
        "colab": {
          "base_uri": "https://localhost:8080/"
        },
        "id": "SGSmXU_CB9rp",
        "outputId": "c4916ed7-d88f-40af-a31b-79581b24d66f"
      },
      "execution_count": null,
      "outputs": [
        {
          "output_type": "execute_result",
          "data": {
            "text/plain": [
              "(1, 2, 3, 4, 5, 'a', 'b', 'c', 'd', 'e')"
            ]
          },
          "metadata": {},
          "execution_count": 32
        }
      ]
    },
    {
      "cell_type": "markdown",
      "source": [
        "## Repetition Operation"
      ],
      "metadata": {
        "id": "rAlpj28RCCFV"
      }
    },
    {
      "cell_type": "code",
      "source": [
        "T3*2"
      ],
      "metadata": {
        "colab": {
          "base_uri": "https://localhost:8080/"
        },
        "id": "P7KvrqM1BsgB",
        "outputId": "ee381ca0-2b54-4731-d55a-c69ced42c336"
      },
      "execution_count": null,
      "outputs": [
        {
          "output_type": "execute_result",
          "data": {
            "text/plain": [
              "(1,\n",
              " 2,\n",
              " 3,\n",
              " 4,\n",
              " 5,\n",
              " 'a',\n",
              " 'b',\n",
              " 'c',\n",
              " 'd',\n",
              " 'e',\n",
              " 1,\n",
              " 2,\n",
              " 3,\n",
              " 4,\n",
              " 5,\n",
              " 'a',\n",
              " 'b',\n",
              " 'c',\n",
              " 'd',\n",
              " 'e')"
            ]
          },
          "metadata": {},
          "execution_count": 31
        }
      ]
    },
    {
      "cell_type": "markdown",
      "source": [
        "## Membership Function"
      ],
      "metadata": {
        "id": "ehSxBR81CQ3z"
      }
    },
    {
      "cell_type": "code",
      "source": [
        "Tuple1"
      ],
      "metadata": {
        "colab": {
          "base_uri": "https://localhost:8080/"
        },
        "id": "Vt7g4K1RCTYi",
        "outputId": "762ea5d3-694e-4158-af8e-5a0c11a4acd2"
      },
      "execution_count": null,
      "outputs": [
        {
          "output_type": "execute_result",
          "data": {
            "text/plain": [
              "(226, 164, 161, 173, 215, 156, 145, 135, 147)"
            ]
          },
          "metadata": {},
          "execution_count": 33
        }
      ]
    },
    {
      "cell_type": "code",
      "source": [
        "156 in Tuple1"
      ],
      "metadata": {
        "colab": {
          "base_uri": "https://localhost:8080/"
        },
        "id": "AsZDQtTjCYer",
        "outputId": "2ef16196-9497-404a-9155-83c8cff6517c"
      },
      "execution_count": null,
      "outputs": [
        {
          "output_type": "execute_result",
          "data": {
            "text/plain": [
              "True"
            ]
          },
          "metadata": {},
          "execution_count": 34
        }
      ]
    },
    {
      "cell_type": "code",
      "source": [
        "256 in Tuple1"
      ],
      "metadata": {
        "colab": {
          "base_uri": "https://localhost:8080/"
        },
        "id": "ejm6T9oICedN",
        "outputId": "0a137027-c78d-481c-8489-e41f9daeef4c"
      },
      "execution_count": null,
      "outputs": [
        {
          "output_type": "execute_result",
          "data": {
            "text/plain": [
              "False"
            ]
          },
          "metadata": {},
          "execution_count": 35
        }
      ]
    },
    {
      "cell_type": "code",
      "source": [
        "for i in Tuple1:\n",
        "  print(i)"
      ],
      "metadata": {
        "colab": {
          "base_uri": "https://localhost:8080/"
        },
        "id": "4pWWv1Z9Cj9k",
        "outputId": "27b9e6f9-fcac-46fc-96d2-bfd900404ee0"
      },
      "execution_count": null,
      "outputs": [
        {
          "output_type": "stream",
          "name": "stdout",
          "text": [
            "226\n",
            "164\n",
            "161\n",
            "173\n",
            "215\n",
            "156\n",
            "145\n",
            "135\n",
            "147\n"
          ]
        }
      ]
    },
    {
      "cell_type": "markdown",
      "source": [
        "# Build-in Functions & Methods of Tuple"
      ],
      "metadata": {
        "id": "10mMpS2OCvlI"
      }
    },
    {
      "cell_type": "code",
      "source": [
        "Tupl1=(226, 164, 161, 173, 215, 156, 145, 135, 147)\n",
        "Tupl1"
      ],
      "metadata": {
        "colab": {
          "base_uri": "https://localhost:8080/"
        },
        "id": "zykIndKTDD00",
        "outputId": "23c0217e-ff49-4551-e3db-9d178cd0b1b1"
      },
      "execution_count": null,
      "outputs": [
        {
          "output_type": "execute_result",
          "data": {
            "text/plain": [
              "(226, 164, 161, 173, 215, 156, 145, 135, 147)"
            ]
          },
          "metadata": {},
          "execution_count": 41
        }
      ]
    },
    {
      "cell_type": "code",
      "source": [
        "Tuple2=('Rahmanullah Gurbaz (AFG)',\n",
        " 'RG Sharma (IND)',\n",
        " 'TM Head (AUS)',\n",
        " 'Q de Kock (SA)',\n",
        " 'Ibrahim Zadran (AFG)',\n",
        " 'N Pooran (WI)',\n",
        " 'AGS Gous (USA)',\n",
        " 'JC Buttler (ENG)',\n",
        " 'SA Yadav (IND)')\n",
        "Tuple2"
      ],
      "metadata": {
        "colab": {
          "base_uri": "https://localhost:8080/"
        },
        "id": "cPAYnOq_DNdE",
        "outputId": "112f3b22-42a7-4a01-8ee7-f73b85e0eccd"
      },
      "execution_count": null,
      "outputs": [
        {
          "output_type": "execute_result",
          "data": {
            "text/plain": [
              "('Rahmanullah Gurbaz (AFG)',\n",
              " 'RG Sharma (IND)',\n",
              " 'TM Head (AUS)',\n",
              " 'Q de Kock (SA)',\n",
              " 'Ibrahim Zadran (AFG)',\n",
              " 'N Pooran (WI)',\n",
              " 'AGS Gous (USA)',\n",
              " 'JC Buttler (ENG)',\n",
              " 'SA Yadav (IND)')"
            ]
          },
          "metadata": {},
          "execution_count": 42
        }
      ]
    },
    {
      "cell_type": "markdown",
      "source": [
        "## len (tuple) - Gives the total length of the tuple."
      ],
      "metadata": {
        "id": "WfcCYVe6D1hj"
      }
    },
    {
      "cell_type": "code",
      "source": [
        "len (Tuple1)"
      ],
      "metadata": {
        "colab": {
          "base_uri": "https://localhost:8080/"
        },
        "id": "v1FZaUdQC474",
        "outputId": "dbcd3669-72cf-4fad-da09-c1303857e029"
      },
      "execution_count": null,
      "outputs": [
        {
          "output_type": "execute_result",
          "data": {
            "text/plain": [
              "9"
            ]
          },
          "metadata": {},
          "execution_count": 38
        }
      ]
    },
    {
      "cell_type": "code",
      "source": [
        "len (Tuple2)"
      ],
      "metadata": {
        "colab": {
          "base_uri": "https://localhost:8080/"
        },
        "id": "uu6UDDdlDXJT",
        "outputId": "0f9b1553-2367-41f9-d68e-89250cb122a8"
      },
      "execution_count": null,
      "outputs": [
        {
          "output_type": "execute_result",
          "data": {
            "text/plain": [
              "9"
            ]
          },
          "metadata": {},
          "execution_count": 43
        }
      ]
    },
    {
      "cell_type": "markdown",
      "source": [
        "## max() - Returns item from the tuple with max value."
      ],
      "metadata": {
        "id": "4axFFab4EIkw"
      }
    },
    {
      "cell_type": "code",
      "source": [
        "max(Tuple1)"
      ],
      "metadata": {
        "colab": {
          "base_uri": "https://localhost:8080/"
        },
        "id": "J6FxOwZkC7pa",
        "outputId": "44b2ea80-0a2c-4ee7-80be-95a206cd044e"
      },
      "execution_count": null,
      "outputs": [
        {
          "output_type": "execute_result",
          "data": {
            "text/plain": [
              "226"
            ]
          },
          "metadata": {},
          "execution_count": 39
        }
      ]
    },
    {
      "cell_type": "markdown",
      "source": [
        "## min() - Returns item from the tuple with min value."
      ],
      "metadata": {
        "id": "T7o0J8r_EW0_"
      }
    },
    {
      "cell_type": "code",
      "source": [
        "min(Tuple1)"
      ],
      "metadata": {
        "colab": {
          "base_uri": "https://localhost:8080/"
        },
        "id": "zQnzKzgHC95p",
        "outputId": "804c8b33-8f94-4be5-bffd-82cbf7e57597"
      },
      "execution_count": null,
      "outputs": [
        {
          "output_type": "execute_result",
          "data": {
            "text/plain": [
              "135"
            ]
          },
          "metadata": {},
          "execution_count": 40
        }
      ]
    },
    {
      "cell_type": "markdown",
      "source": [
        "## zip(tuple1, tuple2) - It zips elements from two tuples into a list of tuples."
      ],
      "metadata": {
        "id": "Hp-DBb1JEc0G"
      }
    },
    {
      "cell_type": "code",
      "source": [
        "zip(Tuple1,Tuple2)"
      ],
      "metadata": {
        "colab": {
          "base_uri": "https://localhost:8080/"
        },
        "id": "hkclS_eNC_kP",
        "outputId": "ee0d0e08-35d5-4eec-8fb3-dfd2d0320ce3"
      },
      "execution_count": null,
      "outputs": [
        {
          "output_type": "execute_result",
          "data": {
            "text/plain": [
              "<zip at 0x7985d284bf40>"
            ]
          },
          "metadata": {},
          "execution_count": 45
        }
      ]
    },
    {
      "cell_type": "markdown",
      "source": [
        "## tuple.count() - Returns the number of times a specified value occurs in a tuple."
      ],
      "metadata": {
        "id": "GcvMyaNHEuN7"
      }
    },
    {
      "cell_type": "code",
      "source": [
        "Tuple1.count(164)"
      ],
      "metadata": {
        "colab": {
          "base_uri": "https://localhost:8080/"
        },
        "id": "3xIcIRtgDcQh",
        "outputId": "391671e6-a26f-46d1-8f0a-104e9a5b0e61"
      },
      "execution_count": null,
      "outputs": [
        {
          "output_type": "execute_result",
          "data": {
            "text/plain": [
              "1"
            ]
          },
          "metadata": {},
          "execution_count": 46
        }
      ]
    },
    {
      "cell_type": "markdown",
      "source": [
        "## tuple.index() - Searches the tuple for a specified value and returns the position where it was found."
      ],
      "metadata": {
        "id": "TS9Pmp6FE9wK"
      }
    },
    {
      "cell_type": "code",
      "source": [
        "Tuple2.index('RG Sharma (IND)')"
      ],
      "metadata": {
        "colab": {
          "base_uri": "https://localhost:8080/"
        },
        "id": "OQqgokXEDq0c",
        "outputId": "2c88b1a3-a9db-423c-9866-4065351cf915"
      },
      "execution_count": null,
      "outputs": [
        {
          "output_type": "execute_result",
          "data": {
            "text/plain": [
              "1"
            ]
          },
          "metadata": {},
          "execution_count": 47
        }
      ]
    }
  ]
}