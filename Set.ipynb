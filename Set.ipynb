{
  "nbformat": 4,
  "nbformat_minor": 0,
  "metadata": {
    "colab": {
      "provenance": [],
      "collapsed_sections": [
        "REXeXSynGjL-",
        "bNQbn7cDGw4x",
        "fL6zSrD3Nlvf",
        "64-FcmV2NPYR",
        "ozAXvYvFN84M",
        "IchOSKZ0N9Mg",
        "CjT5L3l6O0v9",
        "XyyGiEjgO5Ve",
        "WjgMTAGFPxF3",
        "GHye4DaJRazd",
        "C5zY5fa0RvM2",
        "DkmH6RSMUHrB",
        "DFRBd2INUVcn",
        "ykbgi7WtUjY3",
        "Im1wrdk5VXJC",
        "7xYDMzT3U21T",
        "SKOFq0asVEcF"
      ],
      "authorship_tag": "ABX9TyMBLNLEInPh1EjdceOaNLQo",
      "include_colab_link": true
    },
    "kernelspec": {
      "name": "python3",
      "display_name": "Python 3"
    },
    "language_info": {
      "name": "python"
    }
  },
  "cells": [
    {
      "cell_type": "markdown",
      "metadata": {
        "id": "view-in-github",
        "colab_type": "text"
      },
      "source": [
        "<a href=\"https://colab.research.google.com/github/AarifSheikh-78603/Python-Workspace/blob/main/Set.ipynb\" target=\"_parent\"><img src=\"https://colab.research.google.com/assets/colab-badge.svg\" alt=\"Open In Colab\"/></a>"
      ]
    },
    {
      "cell_type": "markdown",
      "source": [
        "# SETS"
      ],
      "metadata": {
        "id": "ZJIuZ5CTGdWD"
      }
    },
    {
      "cell_type": "markdown",
      "source": [
        "## Create an empty set"
      ],
      "metadata": {
        "id": "REXeXSynGjL-"
      }
    },
    {
      "cell_type": "code",
      "execution_count": null,
      "metadata": {
        "colab": {
          "base_uri": "https://localhost:8080/"
        },
        "id": "DDvIEp6PGZd6",
        "outputId": "da0772d0-9528-41b2-986b-fd0d91f770ad"
      },
      "outputs": [
        {
          "output_type": "execute_result",
          "data": {
            "text/plain": [
              "{}"
            ]
          },
          "metadata": {},
          "execution_count": 1
        }
      ],
      "source": [
        "S1={}\n",
        "S1"
      ]
    },
    {
      "cell_type": "code",
      "source": [
        "S1=set()\n",
        "S1"
      ],
      "metadata": {
        "colab": {
          "base_uri": "https://localhost:8080/"
        },
        "id": "d7iD_mOzGraF",
        "outputId": "ccc40f7f-a15c-4265-aff5-3e2ccf067477"
      },
      "execution_count": null,
      "outputs": [
        {
          "output_type": "execute_result",
          "data": {
            "text/plain": [
              "set()"
            ]
          },
          "metadata": {},
          "execution_count": 2
        }
      ]
    },
    {
      "cell_type": "markdown",
      "source": [
        "## Create a set with integer values"
      ],
      "metadata": {
        "id": "bNQbn7cDGw4x"
      }
    },
    {
      "cell_type": "code",
      "source": [
        "S1={23,1,11,61,51,5,32,94,16,0,65,3,0,21,10,12,}\n",
        "S1"
      ],
      "metadata": {
        "colab": {
          "base_uri": "https://localhost:8080/"
        },
        "id": "F-hzO3BhG2VZ",
        "outputId": "7c960cf8-7cce-40a3-e567-741f53ee45ff"
      },
      "execution_count": null,
      "outputs": [
        {
          "output_type": "execute_result",
          "data": {
            "text/plain": [
              "{0, 1, 3, 5, 10, 11, 12, 16, 21, 23, 32, 51, 61, 65, 94}"
            ]
          },
          "metadata": {},
          "execution_count": 8
        }
      ]
    },
    {
      "cell_type": "code",
      "source": [
        "type(S1)"
      ],
      "metadata": {
        "colab": {
          "base_uri": "https://localhost:8080/"
        },
        "id": "DisYWZdLNCP0",
        "outputId": "4b8ca175-57c1-42a6-9f8d-8af9c26370be"
      },
      "execution_count": null,
      "outputs": [
        {
          "output_type": "execute_result",
          "data": {
            "text/plain": [
              "set"
            ]
          },
          "metadata": {},
          "execution_count": 11
        }
      ]
    },
    {
      "cell_type": "code",
      "source": [
        "S2=set([33,11,31,67,61,45,32,94,66,80,85,63,70,21,180,12,])\n",
        "S2"
      ],
      "metadata": {
        "colab": {
          "base_uri": "https://localhost:8080/"
        },
        "id": "9tgr0EfyMxgL",
        "outputId": "d95129ee-97f5-445f-e01f-45b784dc3182"
      },
      "execution_count": null,
      "outputs": [
        {
          "output_type": "execute_result",
          "data": {
            "text/plain": [
              "{11, 12, 21, 31, 32, 33, 45, 61, 63, 66, 67, 70, 80, 85, 94, 180}"
            ]
          },
          "metadata": {},
          "execution_count": 10
        }
      ]
    },
    {
      "cell_type": "code",
      "source": [
        "type(S2)"
      ],
      "metadata": {
        "colab": {
          "base_uri": "https://localhost:8080/"
        },
        "id": "drWONWVuNH-i",
        "outputId": "c7c0c8c2-860f-4772-d55b-98841f4699ff"
      },
      "execution_count": null,
      "outputs": [
        {
          "output_type": "execute_result",
          "data": {
            "text/plain": [
              "set"
            ]
          },
          "metadata": {},
          "execution_count": 12
        }
      ]
    },
    {
      "cell_type": "markdown",
      "source": [
        "## Create set with set()."
      ],
      "metadata": {
        "id": "fL6zSrD3Nlvf"
      }
    },
    {
      "cell_type": "code",
      "source": [
        "S3=set('INTERNSHIP')\n",
        "S3"
      ],
      "metadata": {
        "colab": {
          "base_uri": "https://localhost:8080/"
        },
        "id": "pyZIQwLxNk9-",
        "outputId": "8eb0eeb1-3a67-447a-d547-e22ebbb8af2d"
      },
      "execution_count": null,
      "outputs": [
        {
          "output_type": "execute_result",
          "data": {
            "text/plain": [
              "{'E', 'H', 'I', 'N', 'P', 'R', 'S', 'T'}"
            ]
          },
          "metadata": {},
          "execution_count": 18
        }
      ]
    },
    {
      "cell_type": "code",
      "source": [
        "type(S3)"
      ],
      "metadata": {
        "colab": {
          "base_uri": "https://localhost:8080/"
        },
        "id": "DHGf_LBbN3Eg",
        "outputId": "ba9e3b78-c4ff-4bbc-8e9f-56614300df79"
      },
      "execution_count": null,
      "outputs": [
        {
          "output_type": "execute_result",
          "data": {
            "text/plain": [
              "set"
            ]
          },
          "metadata": {},
          "execution_count": 19
        }
      ]
    },
    {
      "cell_type": "markdown",
      "source": [
        "## A set does not contains any duplicate value"
      ],
      "metadata": {
        "id": "64-FcmV2NPYR"
      }
    },
    {
      "cell_type": "code",
      "source": [
        "S4={10,20,30,40,50,10,20,30,40,50,60}\n",
        "S4"
      ],
      "metadata": {
        "colab": {
          "base_uri": "https://localhost:8080/"
        },
        "id": "4q0WuacINVM5",
        "outputId": "67594795-9c68-4ef0-e69a-5737f19830f8"
      },
      "execution_count": null,
      "outputs": [
        {
          "output_type": "execute_result",
          "data": {
            "text/plain": [
              "{10, 20, 30, 40, 50, 60}"
            ]
          },
          "metadata": {},
          "execution_count": 15
        }
      ]
    },
    {
      "cell_type": "code",
      "source": [
        "type(S4)"
      ],
      "metadata": {
        "colab": {
          "base_uri": "https://localhost:8080/"
        },
        "id": "WOu9zOOoNgq_",
        "outputId": "9f07e99f-0d8a-4dff-c090-79634c8ffc3d"
      },
      "execution_count": null,
      "outputs": [
        {
          "output_type": "execute_result",
          "data": {
            "text/plain": [
              "set"
            ]
          },
          "metadata": {},
          "execution_count": 16
        }
      ]
    },
    {
      "cell_type": "markdown",
      "source": [
        "# Updating Set"
      ],
      "metadata": {
        "id": "ozAXvYvFN84M"
      }
    },
    {
      "cell_type": "markdown",
      "source": [
        "## Using add() method."
      ],
      "metadata": {
        "id": "IchOSKZ0N9Mg"
      }
    },
    {
      "cell_type": "code",
      "source": [
        "S1={23,1,11,61,51,5,32,94,16,0,65,3,0,21,10,12,}\n",
        "S1"
      ],
      "metadata": {
        "colab": {
          "base_uri": "https://localhost:8080/"
        },
        "id": "295D4udNN9eu",
        "outputId": "c762d676-a278-4481-9f53-67d4e4b3450e"
      },
      "execution_count": null,
      "outputs": [
        {
          "output_type": "execute_result",
          "data": {
            "text/plain": [
              "{0, 1, 3, 5, 10, 11, 12, 16, 21, 23, 32, 51, 61, 65, 94}"
            ]
          },
          "metadata": {},
          "execution_count": 20
        }
      ]
    },
    {
      "cell_type": "code",
      "source": [
        "S1.add(100)\n",
        "S1"
      ],
      "metadata": {
        "colab": {
          "base_uri": "https://localhost:8080/"
        },
        "id": "JCuWa3YsOQK7",
        "outputId": "43a8617f-5040-4ba8-a6f7-e8cd4ae29844"
      },
      "execution_count": null,
      "outputs": [
        {
          "output_type": "execute_result",
          "data": {
            "text/plain": [
              "{0, 1, 3, 5, 10, 11, 12, 16, 21, 23, 32, 51, 61, 65, 94, 100}"
            ]
          },
          "metadata": {},
          "execution_count": 21
        }
      ]
    },
    {
      "cell_type": "code",
      "source": [
        "S1.add(72)\n",
        "S1"
      ],
      "metadata": {
        "colab": {
          "base_uri": "https://localhost:8080/"
        },
        "id": "9qWzSgqTOVHA",
        "outputId": "4741c94e-e1ef-466d-85cc-63ccd09b3384"
      },
      "execution_count": null,
      "outputs": [
        {
          "output_type": "execute_result",
          "data": {
            "text/plain": [
              "{0, 1, 3, 5, 10, 11, 12, 16, 21, 23, 32, 51, 61, 65, 72, 94, 100}"
            ]
          },
          "metadata": {},
          "execution_count": 23
        }
      ]
    },
    {
      "cell_type": "markdown",
      "source": [
        "## Using update() method"
      ],
      "metadata": {
        "id": "Q54Dx6nCObgg"
      }
    },
    {
      "cell_type": "code",
      "source": [
        "S1={23,1,11,61,51,5,32,94,16,0,65,3,0,21,10,12,}\n",
        "S1"
      ],
      "metadata": {
        "colab": {
          "base_uri": "https://localhost:8080/"
        },
        "id": "0fKRMAGnOfdW",
        "outputId": "1a8a9bb3-f357-4332-d797-63f1dfc3eeb4"
      },
      "execution_count": null,
      "outputs": [
        {
          "output_type": "execute_result",
          "data": {
            "text/plain": [
              "{0, 1, 3, 5, 10, 11, 12, 16, 21, 23, 32, 51, 61, 65, 94}"
            ]
          },
          "metadata": {},
          "execution_count": 27
        }
      ]
    },
    {
      "cell_type": "code",
      "source": [
        "S2={100,200,300,400,500,600,700,800,900,1000}\n",
        "S2"
      ],
      "metadata": {
        "colab": {
          "base_uri": "https://localhost:8080/"
        },
        "id": "dWWG4GVGOlSc",
        "outputId": "d26ca3e2-b4ce-4c12-e394-84f4a6a3c0d8"
      },
      "execution_count": null,
      "outputs": [
        {
          "output_type": "execute_result",
          "data": {
            "text/plain": [
              "{100, 200, 300, 400, 500, 600, 700, 800, 900, 1000}"
            ]
          },
          "metadata": {},
          "execution_count": 28
        }
      ]
    },
    {
      "cell_type": "code",
      "source": [
        "S1.update(S2)\n",
        "S1"
      ],
      "metadata": {
        "colab": {
          "base_uri": "https://localhost:8080/"
        },
        "id": "xa1pDo-POoXS",
        "outputId": "7569f481-84f5-4cc9-dd41-1482176b05bf"
      },
      "execution_count": null,
      "outputs": [
        {
          "output_type": "execute_result",
          "data": {
            "text/plain": [
              "{0,\n",
              " 1,\n",
              " 3,\n",
              " 5,\n",
              " 10,\n",
              " 11,\n",
              " 12,\n",
              " 16,\n",
              " 21,\n",
              " 23,\n",
              " 32,\n",
              " 51,\n",
              " 61,\n",
              " 65,\n",
              " 94,\n",
              " 100,\n",
              " 200,\n",
              " 300,\n",
              " 400,\n",
              " 500,\n",
              " 600,\n",
              " 700,\n",
              " 800,\n",
              " 900,\n",
              " 1000}"
            ]
          },
          "metadata": {},
          "execution_count": 29
        }
      ]
    },
    {
      "cell_type": "markdown",
      "source": [
        "# Basic Set Operation"
      ],
      "metadata": {
        "id": "CjT5L3l6O0v9"
      }
    },
    {
      "cell_type": "code",
      "source": [
        "A={1,2,3,4,5,6,7,8,9,10}\n",
        "B={1,2,3,4,5,11,12,13,14,15}"
      ],
      "metadata": {
        "id": "lnzW-V_sO3L3"
      },
      "execution_count": null,
      "outputs": []
    },
    {
      "cell_type": "code",
      "source": [
        "C={'Mumbai', 'Pune', 'Banglore', 'Chennai', 'Hyderabad'}\n",
        "D={'Mumbai', 'Pune', 'Chennai', 'Hyderabad'}"
      ],
      "metadata": {
        "id": "G4WWRsmyPVJR"
      },
      "execution_count": null,
      "outputs": []
    },
    {
      "cell_type": "markdown",
      "source": [
        "## Set Operation - Union"
      ],
      "metadata": {
        "id": "XyyGiEjgO5Ve"
      }
    },
    {
      "cell_type": "code",
      "source": [
        "U1=A.union(B)\n",
        "U1"
      ],
      "metadata": {
        "colab": {
          "base_uri": "https://localhost:8080/"
        },
        "id": "Xg8d_lYHPJi6",
        "outputId": "4a705799-f3ce-4035-c71e-187235f88ba7"
      },
      "execution_count": null,
      "outputs": [
        {
          "output_type": "execute_result",
          "data": {
            "text/plain": [
              "{1, 2, 3, 4, 5, 6, 7, 8, 9, 10, 11, 12, 13, 14, 15}"
            ]
          },
          "metadata": {},
          "execution_count": 40
        }
      ]
    },
    {
      "cell_type": "code",
      "source": [
        "U2=B.union(A)\n",
        "U2"
      ],
      "metadata": {
        "colab": {
          "base_uri": "https://localhost:8080/"
        },
        "id": "GypOpE1fQzWq",
        "outputId": "67f24b37-68ce-4910-ae85-3eb461353077"
      },
      "execution_count": null,
      "outputs": [
        {
          "output_type": "execute_result",
          "data": {
            "text/plain": [
              "{1, 2, 3, 4, 5, 6, 7, 8, 9, 10, 11, 12, 13, 14, 15}"
            ]
          },
          "metadata": {},
          "execution_count": 51
        }
      ]
    },
    {
      "cell_type": "code",
      "source": [
        "U3=C.union(D)\n",
        "U3"
      ],
      "metadata": {
        "colab": {
          "base_uri": "https://localhost:8080/"
        },
        "id": "YRfDgXN5Pslc",
        "outputId": "f9da8167-7196-4ed6-bbf4-58e4c226ac1e"
      },
      "execution_count": null,
      "outputs": [
        {
          "output_type": "execute_result",
          "data": {
            "text/plain": [
              "{'Banglore', 'Chennai', 'Hyderabad', 'Mumbai', 'Pune'}"
            ]
          },
          "metadata": {},
          "execution_count": 52
        }
      ]
    },
    {
      "cell_type": "code",
      "source": [
        "U4=D.union(C)\n",
        "U4"
      ],
      "metadata": {
        "colab": {
          "base_uri": "https://localhost:8080/"
        },
        "id": "j3Z4ABB9RFVy",
        "outputId": "e4d5d9e8-a491-4b17-f295-4be0236040a5"
      },
      "execution_count": null,
      "outputs": [
        {
          "output_type": "execute_result",
          "data": {
            "text/plain": [
              "{'Banglore', 'Chennai', 'Hyderabad', 'Mumbai', 'Pune'}"
            ]
          },
          "metadata": {},
          "execution_count": 53
        }
      ]
    },
    {
      "cell_type": "code",
      "source": [],
      "metadata": {
        "id": "3KE3eLJoQz_H"
      },
      "execution_count": null,
      "outputs": []
    },
    {
      "cell_type": "markdown",
      "source": [
        "## Set Operation - Intersection"
      ],
      "metadata": {
        "id": "WjgMTAGFPxF3"
      }
    },
    {
      "cell_type": "code",
      "source": [
        "I1=A.intersection(B)\n",
        "I1"
      ],
      "metadata": {
        "colab": {
          "base_uri": "https://localhost:8080/"
        },
        "id": "qy_0AtQxP1DJ",
        "outputId": "a5df8250-c484-4802-9ca1-70271d4811bf"
      },
      "execution_count": null,
      "outputs": [
        {
          "output_type": "execute_result",
          "data": {
            "text/plain": [
              "{1, 2, 3, 4, 5}"
            ]
          },
          "metadata": {},
          "execution_count": 42
        }
      ]
    },
    {
      "cell_type": "code",
      "source": [
        "I2=B.intersection(A)\n",
        "I2"
      ],
      "metadata": {
        "colab": {
          "base_uri": "https://localhost:8080/"
        },
        "id": "mboVYvW_QlYj",
        "outputId": "6f43d0b2-dac1-4a20-8a7c-510a5ff18062"
      },
      "execution_count": null,
      "outputs": [
        {
          "output_type": "execute_result",
          "data": {
            "text/plain": [
              "{1, 2, 3, 4, 5}"
            ]
          },
          "metadata": {},
          "execution_count": 48
        }
      ]
    },
    {
      "cell_type": "code",
      "source": [
        "I3=C.intersection(D)\n",
        "I3"
      ],
      "metadata": {
        "colab": {
          "base_uri": "https://localhost:8080/"
        },
        "id": "dZa3INsIQORP",
        "outputId": "ff75fc7b-13d4-43f9-f780-fa74d433e421"
      },
      "execution_count": null,
      "outputs": [
        {
          "output_type": "execute_result",
          "data": {
            "text/plain": [
              "{'Chennai', 'Hyderabad', 'Mumbai', 'Pune'}"
            ]
          },
          "metadata": {},
          "execution_count": 49
        }
      ]
    },
    {
      "cell_type": "code",
      "source": [
        "I4=D.intersection(C)\n",
        "I4"
      ],
      "metadata": {
        "colab": {
          "base_uri": "https://localhost:8080/"
        },
        "id": "O1GaOjEkQsY7",
        "outputId": "ed3a850c-dd1c-48ee-8f02-587bab95426a"
      },
      "execution_count": null,
      "outputs": [
        {
          "output_type": "execute_result",
          "data": {
            "text/plain": [
              "{'Chennai', 'Hyderabad', 'Mumbai', 'Pune'}"
            ]
          },
          "metadata": {},
          "execution_count": 50
        }
      ]
    },
    {
      "cell_type": "markdown",
      "source": [
        "## Set Operation - Difference"
      ],
      "metadata": {
        "id": "3qDnNvgiQWkY"
      }
    },
    {
      "cell_type": "code",
      "source": [
        "D1=A.difference(B)\n",
        "D1"
      ],
      "metadata": {
        "colab": {
          "base_uri": "https://localhost:8080/"
        },
        "id": "-wNsTGHaQZhP",
        "outputId": "be7d4a81-ff17-4057-e474-760da1664d25"
      },
      "execution_count": null,
      "outputs": [
        {
          "output_type": "execute_result",
          "data": {
            "text/plain": [
              "{6, 7, 8, 9, 10}"
            ]
          },
          "metadata": {},
          "execution_count": 44
        }
      ]
    },
    {
      "cell_type": "code",
      "source": [
        "D2=B.difference(A)\n",
        "D2"
      ],
      "metadata": {
        "colab": {
          "base_uri": "https://localhost:8080/"
        },
        "id": "awtd5FvHQZyi",
        "outputId": "d7511100-ea45-49f6-eeb7-c80ee665e4f8"
      },
      "execution_count": null,
      "outputs": [
        {
          "output_type": "execute_result",
          "data": {
            "text/plain": [
              "{11, 12, 13, 14, 15}"
            ]
          },
          "metadata": {},
          "execution_count": 45
        }
      ]
    },
    {
      "cell_type": "code",
      "source": [
        "D3=C.difference(D)\n",
        "D3"
      ],
      "metadata": {
        "colab": {
          "base_uri": "https://localhost:8080/"
        },
        "id": "Gcl3Py24Qft0",
        "outputId": "ab104b9a-1cb5-4110-8310-80a6e129f7ae"
      },
      "execution_count": null,
      "outputs": [
        {
          "output_type": "execute_result",
          "data": {
            "text/plain": [
              "{'Banglore'}"
            ]
          },
          "metadata": {},
          "execution_count": 46
        }
      ]
    },
    {
      "cell_type": "code",
      "source": [
        "D4=D.difference(C)\n",
        "D4"
      ],
      "metadata": {
        "colab": {
          "base_uri": "https://localhost:8080/"
        },
        "id": "1YneR4L4Qf19",
        "outputId": "0dcc45ae-e521-4375-9b9e-bb4c3e58929b"
      },
      "execution_count": null,
      "outputs": [
        {
          "output_type": "execute_result",
          "data": {
            "text/plain": [
              "set()"
            ]
          },
          "metadata": {},
          "execution_count": 47
        }
      ]
    },
    {
      "cell_type": "markdown",
      "source": [
        "## Set Operation - Symmetric Difference"
      ],
      "metadata": {
        "id": "GHye4DaJRazd"
      }
    },
    {
      "cell_type": "code",
      "source": [
        "SD1=A.symmetric_difference(B)\n",
        "SD1"
      ],
      "metadata": {
        "colab": {
          "base_uri": "https://localhost:8080/"
        },
        "id": "yuPj1FN7RW4Z",
        "outputId": "0ea565b9-0617-4530-e9af-e1d50d78c657"
      },
      "execution_count": null,
      "outputs": [
        {
          "output_type": "execute_result",
          "data": {
            "text/plain": [
              "{6, 7, 8, 9, 10, 11, 12, 13, 14, 15}"
            ]
          },
          "metadata": {},
          "execution_count": 54
        }
      ]
    },
    {
      "cell_type": "code",
      "source": [
        "SD2=B.symmetric_difference(A)\n",
        "SD2"
      ],
      "metadata": {
        "colab": {
          "base_uri": "https://localhost:8080/"
        },
        "id": "5eNGvPQNRj3V",
        "outputId": "0e88c61e-611d-4d0e-e7e8-6a66bd7644b6"
      },
      "execution_count": null,
      "outputs": [
        {
          "output_type": "execute_result",
          "data": {
            "text/plain": [
              "{6, 7, 8, 9, 10, 11, 12, 13, 14, 15}"
            ]
          },
          "metadata": {},
          "execution_count": 55
        }
      ]
    },
    {
      "cell_type": "code",
      "source": [
        "SD3=C.symmetric_difference(D)\n",
        "SD3"
      ],
      "metadata": {
        "colab": {
          "base_uri": "https://localhost:8080/"
        },
        "id": "X6cDPYwLRnOx",
        "outputId": "acde770a-e5ec-44cf-e188-85920ac546de"
      },
      "execution_count": null,
      "outputs": [
        {
          "output_type": "execute_result",
          "data": {
            "text/plain": [
              "{'Banglore'}"
            ]
          },
          "metadata": {},
          "execution_count": 56
        }
      ]
    },
    {
      "cell_type": "code",
      "source": [
        "SD4=D.symmetric_difference(C)\n",
        "SD4"
      ],
      "metadata": {
        "colab": {
          "base_uri": "https://localhost:8080/"
        },
        "id": "ZqT_Qyl6Rpj6",
        "outputId": "033b3d7a-b908-4ed6-af6b-3b8f9afee6ee"
      },
      "execution_count": null,
      "outputs": [
        {
          "output_type": "execute_result",
          "data": {
            "text/plain": [
              "{'Banglore'}"
            ]
          },
          "metadata": {},
          "execution_count": 57
        }
      ]
    },
    {
      "cell_type": "markdown",
      "source": [
        "# Built-in Functions and Methods For Sets In Python"
      ],
      "metadata": {
        "id": "C5zY5fa0RvM2"
      }
    },
    {
      "cell_type": "markdown",
      "source": [],
      "metadata": {
        "id": "r0hcdve0R2uY"
      }
    },
    {
      "cell_type": "code",
      "source": [
        "Set1={1,2,3,4,5,6,7,8,9,10}\n",
        "Set2={1,2,3,4,5,11,12,13,14,15}"
      ],
      "metadata": {
        "id": "ShXSpGA4R3Fc"
      },
      "execution_count": null,
      "outputs": []
    },
    {
      "cell_type": "markdown",
      "source": [
        "## len() - Returns the length of the set"
      ],
      "metadata": {
        "id": "DkmH6RSMUHrB"
      }
    },
    {
      "cell_type": "code",
      "source": [
        "len(Set1)"
      ],
      "metadata": {
        "colab": {
          "base_uri": "https://localhost:8080/"
        },
        "id": "bKrtFiqhTpDR",
        "outputId": "7184c7f4-5953-4306-c5d3-f3af492d1735"
      },
      "execution_count": null,
      "outputs": [
        {
          "output_type": "execute_result",
          "data": {
            "text/plain": [
              "10"
            ]
          },
          "metadata": {},
          "execution_count": 68
        }
      ]
    },
    {
      "cell_type": "code",
      "source": [
        "len(Set2)"
      ],
      "metadata": {
        "colab": {
          "base_uri": "https://localhost:8080/"
        },
        "id": "QrwaihsKTrlc",
        "outputId": "8d08d3fe-160b-4c28-b7ea-aa4d97892856"
      },
      "execution_count": null,
      "outputs": [
        {
          "output_type": "execute_result",
          "data": {
            "text/plain": [
              "10"
            ]
          },
          "metadata": {},
          "execution_count": 69
        }
      ]
    },
    {
      "cell_type": "markdown",
      "source": [
        "## max() - Returns the largest item in the set"
      ],
      "metadata": {
        "id": "DFRBd2INUVcn"
      }
    },
    {
      "cell_type": "code",
      "source": [
        "max(Set1)"
      ],
      "metadata": {
        "colab": {
          "base_uri": "https://localhost:8080/"
        },
        "id": "eIU5cVpSTvK2",
        "outputId": "e7eac2ee-10d3-4c0d-906f-1e8fc85a9d02"
      },
      "execution_count": null,
      "outputs": [
        {
          "output_type": "execute_result",
          "data": {
            "text/plain": [
              "10"
            ]
          },
          "metadata": {},
          "execution_count": 70
        }
      ]
    },
    {
      "cell_type": "code",
      "source": [
        "max(Set2)"
      ],
      "metadata": {
        "colab": {
          "base_uri": "https://localhost:8080/"
        },
        "id": "jOWtiVFdUetz",
        "outputId": "ace2f2ec-da06-48ab-85e5-d4bd79acef5d"
      },
      "execution_count": null,
      "outputs": [
        {
          "output_type": "execute_result",
          "data": {
            "text/plain": [
              "15"
            ]
          },
          "metadata": {},
          "execution_count": 74
        }
      ]
    },
    {
      "cell_type": "markdown",
      "source": [
        "## min() - Returns the smallest item in the set"
      ],
      "metadata": {
        "id": "ykbgi7WtUjY3"
      }
    },
    {
      "cell_type": "code",
      "source": [
        "min(Set1)"
      ],
      "metadata": {
        "colab": {
          "base_uri": "https://localhost:8080/"
        },
        "id": "J1i9s0NtUmeD",
        "outputId": "b7674440-2dc2-4b86-8bb8-c5995ceda8f2"
      },
      "execution_count": null,
      "outputs": [
        {
          "output_type": "execute_result",
          "data": {
            "text/plain": [
              "1"
            ]
          },
          "metadata": {},
          "execution_count": 76
        }
      ]
    },
    {
      "cell_type": "code",
      "source": [
        "min(Set2)"
      ],
      "metadata": {
        "colab": {
          "base_uri": "https://localhost:8080/"
        },
        "id": "5ikCQFxWTx0q",
        "outputId": "b75d10ab-9c1a-4a65-cb7a-97042f6a9563"
      },
      "execution_count": null,
      "outputs": [
        {
          "output_type": "execute_result",
          "data": {
            "text/plain": [
              "1"
            ]
          },
          "metadata": {},
          "execution_count": 71
        }
      ]
    },
    {
      "cell_type": "markdown",
      "source": [
        "## sum() - Returns the sum of all elements in the set."
      ],
      "metadata": {
        "id": "Im1wrdk5VXJC"
      }
    },
    {
      "cell_type": "code",
      "source": [
        "sum(Set1)"
      ],
      "metadata": {
        "colab": {
          "base_uri": "https://localhost:8080/"
        },
        "id": "k84Ls4aAVXeu",
        "outputId": "11489b48-2ecf-4c67-f999-b8d31f8e951e"
      },
      "execution_count": null,
      "outputs": [
        {
          "output_type": "execute_result",
          "data": {
            "text/plain": [
              "55"
            ]
          },
          "metadata": {},
          "execution_count": 80
        }
      ]
    },
    {
      "cell_type": "code",
      "source": [
        "sum(Set2)"
      ],
      "metadata": {
        "colab": {
          "base_uri": "https://localhost:8080/"
        },
        "id": "tXICxC1RVXiN",
        "outputId": "0bd2bc6b-8e8c-4b69-b55a-0cd7c9541a38"
      },
      "execution_count": null,
      "outputs": [
        {
          "output_type": "execute_result",
          "data": {
            "text/plain": [
              "80"
            ]
          },
          "metadata": {},
          "execution_count": 81
        }
      ]
    },
    {
      "cell_type": "markdown",
      "source": [
        "## all() - Returns True if all elements of the set are true"
      ],
      "metadata": {
        "id": "7xYDMzT3U21T"
      }
    },
    {
      "cell_type": "code",
      "source": [
        "all (Set1)"
      ],
      "metadata": {
        "colab": {
          "base_uri": "https://localhost:8080/"
        },
        "id": "YAnQDUaITQ33",
        "outputId": "abf21df7-8953-4ed5-8da7-69d92ffcf5c3"
      },
      "execution_count": null,
      "outputs": [
        {
          "output_type": "execute_result",
          "data": {
            "text/plain": [
              "True"
            ]
          },
          "metadata": {},
          "execution_count": 72
        }
      ]
    },
    {
      "cell_type": "code",
      "source": [
        "all (Set2)"
      ],
      "metadata": {
        "colab": {
          "base_uri": "https://localhost:8080/"
        },
        "id": "mvjoFPeWVCiI",
        "outputId": "87afa48f-fd2c-4607-a8da-dfeb9c09c046"
      },
      "execution_count": null,
      "outputs": [
        {
          "output_type": "execute_result",
          "data": {
            "text/plain": [
              "True"
            ]
          },
          "metadata": {},
          "execution_count": 77
        }
      ]
    },
    {
      "cell_type": "markdown",
      "source": [
        "## any() - Returns True if any elements of the set are true"
      ],
      "metadata": {
        "id": "SKOFq0asVEcF"
      }
    },
    {
      "cell_type": "code",
      "source": [
        "any (Set1)"
      ],
      "metadata": {
        "colab": {
          "base_uri": "https://localhost:8080/"
        },
        "id": "c7zBTg9FVNZh",
        "outputId": "83273cad-e9b5-47d3-b2e9-273ae1019698"
      },
      "execution_count": null,
      "outputs": [
        {
          "output_type": "execute_result",
          "data": {
            "text/plain": [
              "True"
            ]
          },
          "metadata": {},
          "execution_count": 78
        }
      ]
    },
    {
      "cell_type": "code",
      "source": [
        "any (Set2)"
      ],
      "metadata": {
        "colab": {
          "base_uri": "https://localhost:8080/"
        },
        "id": "ByjsqOZbT99t",
        "outputId": "0f90a815-a345-4f8e-ed86-509b897e50a3"
      },
      "execution_count": null,
      "outputs": [
        {
          "output_type": "execute_result",
          "data": {
            "text/plain": [
              "True"
            ]
          },
          "metadata": {},
          "execution_count": 79
        }
      ]
    }
  ]
}