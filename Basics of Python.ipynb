{
  "nbformat": 4,
  "nbformat_minor": 0,
  "metadata": {
    "colab": {
      "provenance": [],
      "authorship_tag": "ABX9TyNLI0ms0rWB3pmDXQSl0lZp",
      "include_colab_link": true
    },
    "kernelspec": {
      "name": "python3",
      "display_name": "Python 3"
    },
    "language_info": {
      "name": "python"
    }
  },
  "cells": [
    {
      "cell_type": "markdown",
      "metadata": {
        "id": "view-in-github",
        "colab_type": "text"
      },
      "source": [
        "<a href=\"https://colab.research.google.com/github/AarifSheikh-78603/Python-Workspace/blob/main/Basics%20of%20Python.ipynb\" target=\"_parent\"><img src=\"https://colab.research.google.com/assets/colab-badge.svg\" alt=\"Open In Colab\"/></a>"
      ]
    },
    {
      "cell_type": "markdown",
      "source": [
        "# Commenting In Python"
      ],
      "metadata": {
        "id": "PFeeIp9zYWLt"
      }
    },
    {
      "cell_type": "markdown",
      "source": [
        "## Single Line Comment"
      ],
      "metadata": {
        "id": "aS8g3Gn9YcuF"
      }
    },
    {
      "cell_type": "code",
      "source": [
        "# This is single line comment\n",
        "print(\"# (Hash-Tag) is used for single line comment\")"
      ],
      "metadata": {
        "colab": {
          "base_uri": "https://localhost:8080/"
        },
        "id": "tzEQi_psYgS_",
        "outputId": "92b3b184-f233-492e-938d-6fcef4c3ed46"
      },
      "execution_count": null,
      "outputs": [
        {
          "output_type": "stream",
          "name": "stdout",
          "text": [
            "# (Hash-Tag) is used for single line comment\n"
          ]
        }
      ]
    },
    {
      "cell_type": "markdown",
      "source": [
        "## Multiple Line Comments"
      ],
      "metadata": {
        "id": "tbuGv0nnYgrg"
      }
    },
    {
      "cell_type": "code",
      "source": [
        "'''\n",
        "This is multiple line comment\n",
        "This is multiple line comment\n",
        "This is multiple line comment\n",
        "'''\n",
        "print(\" ''' ''' is used for multi line comments.\")"
      ],
      "metadata": {
        "colab": {
          "base_uri": "https://localhost:8080/"
        },
        "id": "RHAvjZYwYkUM",
        "outputId": "e8b77437-e21d-458f-fa5a-675a57a4fb13"
      },
      "execution_count": null,
      "outputs": [
        {
          "output_type": "stream",
          "name": "stdout",
          "text": [
            " ''' ''' is used for multi line comments.\n"
          ]
        }
      ]
    },
    {
      "cell_type": "markdown",
      "source": [
        "# Input & Output in Python"
      ],
      "metadata": {
        "id": "PzlGQ85RJtkh"
      }
    },
    {
      "cell_type": "code",
      "source": [
        "# Taking input from the user\n",
        "Input = input(\"Give me an input: \")\n",
        "\n",
        "# Outputting the input\n",
        "print(\"Given Input:\", Input)\n"
      ],
      "metadata": {
        "colab": {
          "base_uri": "https://localhost:8080/"
        },
        "id": "2AF5o8VoLS8q",
        "outputId": "fbd7d027-287d-4af6-d765-a3f80da1af92"
      },
      "execution_count": null,
      "outputs": [
        {
          "output_type": "stream",
          "name": "stdout",
          "text": [
            "Give me an input: Python\n",
            "Given Input: Python\n"
          ]
        }
      ]
    },
    {
      "cell_type": "markdown",
      "source": [
        "# Numbers Data Type"
      ],
      "metadata": {
        "id": "N1wfyuOhMnHg"
      }
    },
    {
      "cell_type": "markdown",
      "source": [
        "## Boolean (bool) Data Type"
      ],
      "metadata": {
        "id": "eZ_5J7opOjgC"
      }
    },
    {
      "cell_type": "code",
      "source": [
        "B1=True\n",
        "print(B1)\n",
        "type(B1)"
      ],
      "metadata": {
        "colab": {
          "base_uri": "https://localhost:8080/"
        },
        "id": "GTl9QjnuOmUb",
        "outputId": "13537f04-3fb5-4eba-bacd-f3a6cbf6b264"
      },
      "execution_count": null,
      "outputs": [
        {
          "output_type": "stream",
          "name": "stdout",
          "text": [
            "True\n"
          ]
        },
        {
          "output_type": "execute_result",
          "data": {
            "text/plain": [
              "bool"
            ]
          },
          "metadata": {},
          "execution_count": 77
        }
      ]
    },
    {
      "cell_type": "code",
      "source": [
        "B2=False\n",
        "print(B2)\n",
        "type(B2)"
      ],
      "metadata": {
        "colab": {
          "base_uri": "https://localhost:8080/"
        },
        "id": "bGV1MOSEOpy3",
        "outputId": "2707af07-e011-4a8a-b7f9-3833452495f7"
      },
      "execution_count": null,
      "outputs": [
        {
          "output_type": "stream",
          "name": "stdout",
          "text": [
            "False\n"
          ]
        },
        {
          "output_type": "execute_result",
          "data": {
            "text/plain": [
              "bool"
            ]
          },
          "metadata": {},
          "execution_count": 78
        }
      ]
    },
    {
      "cell_type": "markdown",
      "source": [
        "## Integer Data Type"
      ],
      "metadata": {
        "id": "8wNnvhLgMqbC"
      }
    },
    {
      "cell_type": "code",
      "source": [
        "# Positive Integer\n",
        "a=10\n",
        "print(a)\n",
        "type(a)"
      ],
      "metadata": {
        "colab": {
          "base_uri": "https://localhost:8080/"
        },
        "id": "8hASuswoMwHe",
        "outputId": "6f97b181-b1ce-49de-8c6a-34777ba798c8"
      },
      "execution_count": null,
      "outputs": [
        {
          "output_type": "stream",
          "name": "stdout",
          "text": [
            "10\n"
          ]
        },
        {
          "output_type": "execute_result",
          "data": {
            "text/plain": [
              "int"
            ]
          },
          "metadata": {},
          "execution_count": 81
        }
      ]
    },
    {
      "cell_type": "code",
      "source": [
        "# Negative Integer\n",
        "a=-10\n",
        "print(a)\n",
        "type(a)"
      ],
      "metadata": {
        "colab": {
          "base_uri": "https://localhost:8080/"
        },
        "id": "t0G9H9cfNBck",
        "outputId": "20b44cd0-ac3b-4914-e5ed-84732fc75625"
      },
      "execution_count": null,
      "outputs": [
        {
          "output_type": "stream",
          "name": "stdout",
          "text": [
            "-10\n"
          ]
        },
        {
          "output_type": "execute_result",
          "data": {
            "text/plain": [
              "int"
            ]
          },
          "metadata": {},
          "execution_count": 80
        }
      ]
    },
    {
      "cell_type": "code",
      "source": [
        "#Zero Integer\n",
        "a=0\n",
        "print(a)\n",
        "type(a)"
      ],
      "metadata": {
        "colab": {
          "base_uri": "https://localhost:8080/"
        },
        "id": "N6_u-UXrNGVw",
        "outputId": "e97fa651-ff72-41ee-837f-73ddfc560976"
      },
      "execution_count": null,
      "outputs": [
        {
          "output_type": "stream",
          "name": "stdout",
          "text": [
            "0\n"
          ]
        },
        {
          "output_type": "execute_result",
          "data": {
            "text/plain": [
              "int"
            ]
          },
          "metadata": {},
          "execution_count": 15
        }
      ]
    },
    {
      "cell_type": "markdown",
      "source": [
        "## Floating-Point (Float)"
      ],
      "metadata": {
        "id": "313QB46XNWlz"
      }
    },
    {
      "cell_type": "code",
      "source": [
        "#Positive Floating-Point Number\n",
        "FP=10.5\n",
        "print(FP)\n",
        "type(FP)"
      ],
      "metadata": {
        "colab": {
          "base_uri": "https://localhost:8080/"
        },
        "id": "MYcinST8NmWD",
        "outputId": "2d2f765c-ba08-4fce-fb32-0e7a4d77cab2"
      },
      "execution_count": null,
      "outputs": [
        {
          "output_type": "stream",
          "name": "stdout",
          "text": [
            "10.5\n"
          ]
        },
        {
          "output_type": "execute_result",
          "data": {
            "text/plain": [
              "float"
            ]
          },
          "metadata": {},
          "execution_count": 82
        }
      ]
    },
    {
      "cell_type": "code",
      "source": [
        "#Negative Floating-Point Number\n",
        "FP=-10.5\n",
        "print(FP)\n",
        "type(FP)"
      ],
      "metadata": {
        "colab": {
          "base_uri": "https://localhost:8080/"
        },
        "id": "pOZ2A9-oNo7I",
        "outputId": "1e645344-7820-4dde-f8cf-47380fcf98f8"
      },
      "execution_count": null,
      "outputs": [
        {
          "output_type": "stream",
          "name": "stdout",
          "text": [
            "-10.5\n"
          ]
        },
        {
          "output_type": "execute_result",
          "data": {
            "text/plain": [
              "float"
            ]
          },
          "metadata": {},
          "execution_count": 83
        }
      ]
    },
    {
      "cell_type": "markdown",
      "source": [
        "## Complex Numbers"
      ],
      "metadata": {
        "id": "pyUdzE6SN3aK"
      }
    },
    {
      "cell_type": "code",
      "source": [
        "C=2+3j\n",
        "print(C)\n",
        "type(C)"
      ],
      "metadata": {
        "colab": {
          "base_uri": "https://localhost:8080/"
        },
        "id": "PfuS7NAwN6V4",
        "outputId": "a8ab3da4-c0bf-4ea9-a528-6e2962ba062f"
      },
      "execution_count": null,
      "outputs": [
        {
          "output_type": "stream",
          "name": "stdout",
          "text": [
            "(2+3j)\n"
          ]
        },
        {
          "output_type": "execute_result",
          "data": {
            "text/plain": [
              "complex"
            ]
          },
          "metadata": {},
          "execution_count": 84
        }
      ]
    },
    {
      "cell_type": "code",
      "source": [
        "C=-2-3j\n",
        "print(C)\n",
        "type(C)"
      ],
      "metadata": {
        "colab": {
          "base_uri": "https://localhost:8080/"
        },
        "id": "zo5-TbN4N9m6",
        "outputId": "ee77190c-6142-444c-c758-ea3172fe00e6"
      },
      "execution_count": null,
      "outputs": [
        {
          "output_type": "stream",
          "name": "stdout",
          "text": [
            "(-2-3j)\n"
          ]
        },
        {
          "output_type": "execute_result",
          "data": {
            "text/plain": [
              "complex"
            ]
          },
          "metadata": {},
          "execution_count": 85
        }
      ]
    },
    {
      "cell_type": "markdown",
      "source": [
        "## Type Conversion"
      ],
      "metadata": {
        "id": "fz12WuxKOGHZ"
      }
    },
    {
      "cell_type": "code",
      "source": [
        "A=10\n",
        "print(A)\n",
        "type(A)"
      ],
      "metadata": {
        "colab": {
          "base_uri": "https://localhost:8080/"
        },
        "id": "qXiTkrODOIkd",
        "outputId": "422e7207-3ef7-41cf-97b3-dd1463ef6858"
      },
      "execution_count": null,
      "outputs": [
        {
          "output_type": "stream",
          "name": "stdout",
          "text": [
            "10\n"
          ]
        },
        {
          "output_type": "execute_result",
          "data": {
            "text/plain": [
              "int"
            ]
          },
          "metadata": {},
          "execution_count": 86
        }
      ]
    },
    {
      "cell_type": "code",
      "source": [
        "A1=float(A)\n",
        "print(A1)\n",
        "type(A1)"
      ],
      "metadata": {
        "colab": {
          "base_uri": "https://localhost:8080/"
        },
        "id": "dWLn_JtbOPl4",
        "outputId": "8f0a3011-5b35-4306-e968-2f5221e49371"
      },
      "execution_count": null,
      "outputs": [
        {
          "output_type": "stream",
          "name": "stdout",
          "text": [
            "10.0\n"
          ]
        },
        {
          "output_type": "execute_result",
          "data": {
            "text/plain": [
              "float"
            ]
          },
          "metadata": {},
          "execution_count": 87
        }
      ]
    },
    {
      "cell_type": "code",
      "source": [
        "A2=complex(A)\n",
        "print(A2)\n",
        "type(A2)"
      ],
      "metadata": {
        "colab": {
          "base_uri": "https://localhost:8080/"
        },
        "id": "LwxBA28kOUQf",
        "outputId": "af475d18-363a-46c2-e50c-ee3519c1011d"
      },
      "execution_count": null,
      "outputs": [
        {
          "output_type": "stream",
          "name": "stdout",
          "text": [
            "(10+0j)\n"
          ]
        },
        {
          "output_type": "execute_result",
          "data": {
            "text/plain": [
              "complex"
            ]
          },
          "metadata": {},
          "execution_count": 88
        }
      ]
    },
    {
      "cell_type": "markdown",
      "source": [
        "# String Data Type"
      ],
      "metadata": {
        "id": "OSA1FR3POeDv"
      }
    },
    {
      "cell_type": "markdown",
      "source": [
        "## Basic String Creation"
      ],
      "metadata": {
        "id": "1Qu9TaxhPMW5"
      }
    },
    {
      "cell_type": "code",
      "source": [
        "STR1=\"Mission Mangal\"\n",
        "print(STR1)\n",
        "type(STR1)"
      ],
      "metadata": {
        "colab": {
          "base_uri": "https://localhost:8080/"
        },
        "id": "xixtj5HJPmp_",
        "outputId": "d867fcb0-ed9b-4467-e3cb-f194b668fc7c"
      },
      "execution_count": null,
      "outputs": [
        {
          "output_type": "stream",
          "name": "stdout",
          "text": [
            "Mission Mangal\n"
          ]
        },
        {
          "output_type": "execute_result",
          "data": {
            "text/plain": [
              "str"
            ]
          },
          "metadata": {},
          "execution_count": 89
        }
      ]
    },
    {
      "cell_type": "code",
      "source": [
        "STR2=str('AMRS')\n",
        "print(STR2)\n",
        "type(STR2)"
      ],
      "metadata": {
        "colab": {
          "base_uri": "https://localhost:8080/"
        },
        "id": "JrNeBnuVQRL3",
        "outputId": "34704af1-15b0-4194-b686-290f6f654c54"
      },
      "execution_count": null,
      "outputs": [
        {
          "output_type": "stream",
          "name": "stdout",
          "text": [
            "AMRS\n"
          ]
        },
        {
          "output_type": "execute_result",
          "data": {
            "text/plain": [
              "str"
            ]
          },
          "metadata": {},
          "execution_count": 90
        }
      ]
    },
    {
      "cell_type": "code",
      "source": [
        "STR3=str(input(\"Enter the string:\"))\n",
        "print(STR3)\n",
        "type(STR3)"
      ],
      "metadata": {
        "colab": {
          "base_uri": "https://localhost:8080/"
        },
        "id": "fGSYVYj8P4eh",
        "outputId": "bb399436-8a85-4766-cdcd-8dbc93f1ce7b"
      },
      "execution_count": null,
      "outputs": [
        {
          "output_type": "stream",
          "name": "stdout",
          "text": [
            "Enter the string:AWS\n",
            "AWS\n"
          ]
        },
        {
          "output_type": "execute_result",
          "data": {
            "text/plain": [
              "str"
            ]
          },
          "metadata": {},
          "execution_count": 91
        }
      ]
    },
    {
      "cell_type": "markdown",
      "source": [
        "## Accessing the String"
      ],
      "metadata": {
        "id": "fHHu_GT5Q7qh"
      }
    },
    {
      "cell_type": "code",
      "source": [
        "S1=\"Mission Mangal\"\n",
        "print(S1)"
      ],
      "metadata": {
        "colab": {
          "base_uri": "https://localhost:8080/"
        },
        "id": "Wnsw4DGIRPh8",
        "outputId": "05afe1c9-0dd6-4a21-ee5e-75f5089feb5e"
      },
      "execution_count": null,
      "outputs": [
        {
          "output_type": "stream",
          "name": "stdout",
          "text": [
            "Mission Mangal\n"
          ]
        }
      ]
    },
    {
      "cell_type": "code",
      "source": [
        "S1[0]"
      ],
      "metadata": {
        "colab": {
          "base_uri": "https://localhost:8080/",
          "height": 35
        },
        "id": "ZE3dI1bJRyTd",
        "outputId": "90dfdf03-8d32-4cef-816b-bcd89ee0515c"
      },
      "execution_count": null,
      "outputs": [
        {
          "output_type": "execute_result",
          "data": {
            "text/plain": [
              "'M'"
            ],
            "application/vnd.google.colaboratory.intrinsic+json": {
              "type": "string"
            }
          },
          "metadata": {},
          "execution_count": 93
        }
      ]
    },
    {
      "cell_type": "code",
      "source": [
        "S1[-1]"
      ],
      "metadata": {
        "colab": {
          "base_uri": "https://localhost:8080/",
          "height": 35
        },
        "id": "geIVNmS8R1ti",
        "outputId": "a610aa51-e1fb-4349-bffa-4621d4e553d3"
      },
      "execution_count": null,
      "outputs": [
        {
          "output_type": "execute_result",
          "data": {
            "text/plain": [
              "'l'"
            ],
            "application/vnd.google.colaboratory.intrinsic+json": {
              "type": "string"
            }
          },
          "metadata": {},
          "execution_count": 94
        }
      ]
    },
    {
      "cell_type": "code",
      "source": [
        "S1[0:7]"
      ],
      "metadata": {
        "colab": {
          "base_uri": "https://localhost:8080/",
          "height": 35
        },
        "id": "7pVDSCgSR5q2",
        "outputId": "869c63ee-feed-4d25-ae90-14e9c76a3b61"
      },
      "execution_count": null,
      "outputs": [
        {
          "output_type": "execute_result",
          "data": {
            "text/plain": [
              "'Mission'"
            ],
            "application/vnd.google.colaboratory.intrinsic+json": {
              "type": "string"
            }
          },
          "metadata": {},
          "execution_count": 95
        }
      ]
    },
    {
      "cell_type": "code",
      "source": [
        "S1[8:14]"
      ],
      "metadata": {
        "colab": {
          "base_uri": "https://localhost:8080/",
          "height": 35
        },
        "id": "2XC3X-08SAeO",
        "outputId": "ecea22ee-88fa-47a0-d2e0-614c9dac9799"
      },
      "execution_count": null,
      "outputs": [
        {
          "output_type": "execute_result",
          "data": {
            "text/plain": [
              "'Mangal'"
            ],
            "application/vnd.google.colaboratory.intrinsic+json": {
              "type": "string"
            }
          },
          "metadata": {},
          "execution_count": 96
        }
      ]
    },
    {
      "cell_type": "markdown",
      "source": [
        "## Split & Join a String"
      ],
      "metadata": {
        "id": "0qIBH9htSJM2"
      }
    },
    {
      "cell_type": "code",
      "source": [
        "Str1=\"Mission\"\n",
        "Str1"
      ],
      "metadata": {
        "colab": {
          "base_uri": "https://localhost:8080/",
          "height": 35
        },
        "id": "e-ltvK-MSNkY",
        "outputId": "544b7a7d-9bbc-4b16-e074-0ec236d77712"
      },
      "execution_count": null,
      "outputs": [
        {
          "output_type": "execute_result",
          "data": {
            "text/plain": [
              "'Mission'"
            ],
            "application/vnd.google.colaboratory.intrinsic+json": {
              "type": "string"
            }
          },
          "metadata": {},
          "execution_count": 97
        }
      ]
    },
    {
      "cell_type": "code",
      "source": [
        "Str2=\"Mangal\"\n",
        "Str2"
      ],
      "metadata": {
        "colab": {
          "base_uri": "https://localhost:8080/",
          "height": 35
        },
        "id": "p-fe9mX7Sa2c",
        "outputId": "f5ad9050-306b-4d5f-f067-9047b0713d27"
      },
      "execution_count": null,
      "outputs": [
        {
          "output_type": "execute_result",
          "data": {
            "text/plain": [
              "'Mangal'"
            ],
            "application/vnd.google.colaboratory.intrinsic+json": {
              "type": "string"
            }
          },
          "metadata": {},
          "execution_count": 98
        }
      ]
    },
    {
      "cell_type": "code",
      "source": [
        "Str3=Str1+\" \"+Str2\n",
        "Str3"
      ],
      "metadata": {
        "colab": {
          "base_uri": "https://localhost:8080/",
          "height": 35
        },
        "id": "6c7xaOQlSc7M",
        "outputId": "b0e1ebab-56fe-422b-ad5e-cea0f0094f98"
      },
      "execution_count": null,
      "outputs": [
        {
          "output_type": "execute_result",
          "data": {
            "text/plain": [
              "'Mission Mangal'"
            ],
            "application/vnd.google.colaboratory.intrinsic+json": {
              "type": "string"
            }
          },
          "metadata": {},
          "execution_count": 99
        }
      ]
    },
    {
      "cell_type": "code",
      "source": [
        "List=Str3.split()\n",
        "List"
      ],
      "metadata": {
        "colab": {
          "base_uri": "https://localhost:8080/"
        },
        "id": "szD53kgbSqRs",
        "outputId": "49c10559-2cac-4ff7-882e-06c6e201dc54"
      },
      "execution_count": null,
      "outputs": [
        {
          "output_type": "execute_result",
          "data": {
            "text/plain": [
              "['Mission', 'Mangal']"
            ]
          },
          "metadata": {},
          "execution_count": 100
        }
      ]
    },
    {
      "cell_type": "markdown",
      "source": [
        "## String Built-in Methods"
      ],
      "metadata": {
        "id": "wU_QG0fESyKT"
      }
    },
    {
      "cell_type": "code",
      "source": [
        "# String 1\n",
        "Str1=\"Mission\"\n",
        "Str1"
      ],
      "metadata": {
        "colab": {
          "base_uri": "https://localhost:8080/",
          "height": 35
        },
        "id": "JIJC8MooTSXj",
        "outputId": "1f06540c-ca28-4612-f661-427520a8ecdf"
      },
      "execution_count": null,
      "outputs": [
        {
          "output_type": "execute_result",
          "data": {
            "text/plain": [
              "'Mission'"
            ],
            "application/vnd.google.colaboratory.intrinsic+json": {
              "type": "string"
            }
          },
          "metadata": {},
          "execution_count": 101
        }
      ]
    },
    {
      "cell_type": "code",
      "source": [
        "# String 2\n",
        "Str2=\"Mangal\"\n",
        "Str2"
      ],
      "metadata": {
        "colab": {
          "base_uri": "https://localhost:8080/",
          "height": 35
        },
        "id": "GSiBCnWBTXff",
        "outputId": "329910f2-5f5f-4936-b6f1-e575ce031693"
      },
      "execution_count": null,
      "outputs": [
        {
          "output_type": "execute_result",
          "data": {
            "text/plain": [
              "'Mangal'"
            ],
            "application/vnd.google.colaboratory.intrinsic+json": {
              "type": "string"
            }
          },
          "metadata": {},
          "execution_count": 102
        }
      ]
    },
    {
      "cell_type": "code",
      "source": [
        "# + Operator adds two strings together.\n",
        "\n",
        "Str3=Str1+\" \"+Str2\n",
        "Str3"
      ],
      "metadata": {
        "colab": {
          "base_uri": "https://localhost:8080/",
          "height": 35
        },
        "id": "rdIzeEv7TXwE",
        "outputId": "15fa89d9-0fec-4f95-e0bb-24036b48f4b2"
      },
      "execution_count": null,
      "outputs": [
        {
          "output_type": "execute_result",
          "data": {
            "text/plain": [
              "'Mission Mangal'"
            ],
            "application/vnd.google.colaboratory.intrinsic+json": {
              "type": "string"
            }
          },
          "metadata": {},
          "execution_count": 103
        }
      ]
    },
    {
      "cell_type": "code",
      "source": [
        "# upper() method converts a string to uppercase.\n",
        "Str3.upper()"
      ],
      "metadata": {
        "colab": {
          "base_uri": "https://localhost:8080/",
          "height": 35
        },
        "id": "ps16gR9XTXx5",
        "outputId": "30fb42d3-6cb0-44e5-bdd6-957a7b4d73bd"
      },
      "execution_count": null,
      "outputs": [
        {
          "output_type": "execute_result",
          "data": {
            "text/plain": [
              "'MISSION MANGAL'"
            ],
            "application/vnd.google.colaboratory.intrinsic+json": {
              "type": "string"
            }
          },
          "metadata": {},
          "execution_count": 104
        }
      ]
    },
    {
      "cell_type": "code",
      "source": [
        "# lower() method converts a string to lowercase.\n",
        "Str3.lower()"
      ],
      "metadata": {
        "colab": {
          "base_uri": "https://localhost:8080/",
          "height": 35
        },
        "id": "xeycRjMXTXzQ",
        "outputId": "52a33646-bf3e-478f-bd5f-0fb67e53f9d1"
      },
      "execution_count": null,
      "outputs": [
        {
          "output_type": "execute_result",
          "data": {
            "text/plain": [
              "'mission mangal'"
            ],
            "application/vnd.google.colaboratory.intrinsic+json": {
              "type": "string"
            }
          },
          "metadata": {},
          "execution_count": 105
        }
      ]
    },
    {
      "cell_type": "code",
      "source": [
        "# title() method capitalizes the first letter of each word in a string.\n",
        "Str3.title()"
      ],
      "metadata": {
        "colab": {
          "base_uri": "https://localhost:8080/",
          "height": 35
        },
        "id": "JEfOMKhKTX2B",
        "outputId": "507eb83c-1a1a-4c34-db19-720ba81ffc70"
      },
      "execution_count": null,
      "outputs": [
        {
          "output_type": "execute_result",
          "data": {
            "text/plain": [
              "'Mission Mangal'"
            ],
            "application/vnd.google.colaboratory.intrinsic+json": {
              "type": "string"
            }
          },
          "metadata": {},
          "execution_count": 106
        }
      ]
    },
    {
      "cell_type": "code",
      "source": [
        "# find() method searches for the target in a string.\n",
        "Str3.find('a')"
      ],
      "metadata": {
        "colab": {
          "base_uri": "https://localhost:8080/"
        },
        "id": "OSeK6gewUwZs",
        "outputId": "14d2d747-a870-4b42-d764-4cf55ac88cdf"
      },
      "execution_count": null,
      "outputs": [
        {
          "output_type": "execute_result",
          "data": {
            "text/plain": [
              "9"
            ]
          },
          "metadata": {},
          "execution_count": 107
        }
      ]
    },
    {
      "cell_type": "code",
      "source": [
        "# index() method searches for the target in a string.\n",
        "Str3.index('a')"
      ],
      "metadata": {
        "colab": {
          "base_uri": "https://localhost:8080/"
        },
        "id": "9nb7HrJJVKSz",
        "outputId": "a5f5ee17-5ad1-450a-c3d8-b00f267873fe"
      },
      "execution_count": null,
      "outputs": [
        {
          "output_type": "execute_result",
          "data": {
            "text/plain": [
              "9"
            ]
          },
          "metadata": {},
          "execution_count": 108
        }
      ]
    },
    {
      "cell_type": "code",
      "source": [
        "# rfind() method searches for the target in a string from the end of the string.\n",
        "Str3.rfind('a')"
      ],
      "metadata": {
        "colab": {
          "base_uri": "https://localhost:8080/"
        },
        "id": "WmRJuD_xVeGr",
        "outputId": "a933530f-4ba7-4961-9089-bc38770a2cad"
      },
      "execution_count": null,
      "outputs": [
        {
          "output_type": "execute_result",
          "data": {
            "text/plain": [
              "12"
            ]
          },
          "metadata": {},
          "execution_count": 109
        }
      ]
    },
    {
      "cell_type": "code",
      "source": [
        "# rindex() method searches for the target in a string from the end of the string.\n",
        "Str3.rindex('a')"
      ],
      "metadata": {
        "colab": {
          "base_uri": "https://localhost:8080/"
        },
        "id": "R7JcRyneVpao",
        "outputId": "507bfdda-815c-423b-e84f-382948c43a5c"
      },
      "execution_count": null,
      "outputs": [
        {
          "output_type": "execute_result",
          "data": {
            "text/plain": [
              "12"
            ]
          },
          "metadata": {},
          "execution_count": 110
        }
      ]
    },
    {
      "cell_type": "code",
      "source": [
        "# Checks the begining or end of a string for a match.\n",
        "Str=Str3.startswith('M')\n",
        "print(Str)"
      ],
      "metadata": {
        "colab": {
          "base_uri": "https://localhost:8080/"
        },
        "id": "sGZ3bWwRV8oR",
        "outputId": "5e148199-7c74-4897-ccbb-d61d65be25b0"
      },
      "execution_count": null,
      "outputs": [
        {
          "output_type": "stream",
          "name": "stdout",
          "text": [
            "True\n"
          ]
        }
      ]
    },
    {
      "cell_type": "code",
      "source": [
        "# Checks the begining or end of a string for a match.\n",
        "Str=Str3.startswith('N')\n",
        "print(Str)"
      ],
      "metadata": {
        "colab": {
          "base_uri": "https://localhost:8080/"
        },
        "id": "3Js6Q7bUWUVt",
        "outputId": "735fd86b-99f4-472c-fe21-abb47c3e644b"
      },
      "execution_count": null,
      "outputs": [
        {
          "output_type": "stream",
          "name": "stdout",
          "text": [
            "False\n"
          ]
        }
      ]
    },
    {
      "cell_type": "code",
      "source": [
        "# Checks the begining or end of a string for a match.\n",
        "Str=Str3.endswith('M')\n",
        "print(Str)"
      ],
      "metadata": {
        "colab": {
          "base_uri": "https://localhost:8080/"
        },
        "id": "m5qgQYzSWl14",
        "outputId": "ce2e1b57-9a60-4ce4-bb27-00af90f1d7ff"
      },
      "execution_count": null,
      "outputs": [
        {
          "output_type": "stream",
          "name": "stdout",
          "text": [
            "False\n"
          ]
        }
      ]
    },
    {
      "cell_type": "code",
      "source": [
        "# Checks the begining or end of a string for a match.\n",
        "Str=Str3.endswith('l')\n",
        "print(Str)"
      ],
      "metadata": {
        "colab": {
          "base_uri": "https://localhost:8080/"
        },
        "id": "AAnhOE3YWwOH",
        "outputId": "a049ba2c-de01-4888-f82c-6555a955394c"
      },
      "execution_count": null,
      "outputs": [
        {
          "output_type": "stream",
          "name": "stdout",
          "text": [
            "True\n"
          ]
        }
      ]
    },
    {
      "cell_type": "code",
      "source": [
        "# Replace the target with with a new string.\n",
        "Str3.replace('l','lam')"
      ],
      "metadata": {
        "colab": {
          "base_uri": "https://localhost:8080/",
          "height": 35
        },
        "id": "V5l-N-h-W96S",
        "outputId": "02a26840-0723-4acc-8104-2ba51344d35f"
      },
      "execution_count": null,
      "outputs": [
        {
          "output_type": "execute_result",
          "data": {
            "text/plain": [
              "'Mission Mangalam'"
            ],
            "application/vnd.google.colaboratory.intrinsic+json": {
              "type": "string"
            }
          },
          "metadata": {},
          "execution_count": 115
        }
      ]
    },
    {
      "cell_type": "markdown",
      "source": [
        "# Example 1: Adding Two Numbers"
      ],
      "metadata": {
        "id": "Xb3uUw6wKYbt"
      }
    },
    {
      "cell_type": "code",
      "execution_count": null,
      "metadata": {
        "colab": {
          "base_uri": "https://localhost:8080/"
        },
        "id": "xdEUATGaJcky",
        "outputId": "9ffe5b50-2e66-469f-f36a-a8952d578948"
      },
      "outputs": [
        {
          "output_type": "stream",
          "name": "stdout",
          "text": [
            "Enter first number: 90\n",
            "Enter second number: 56\n",
            "The sum of 90 and 56 is 146\n"
          ]
        }
      ],
      "source": [
        "# Taking input from the user\n",
        "Num1 = input(\"Enter first number: \")\n",
        "Num2 = input(\"Enter second number: \")\n",
        "\n",
        "# Converting inputs to integers\n",
        "Num1 = int(Num1)\n",
        "Num2 = int(Num2)\n",
        "\n",
        "# Calculating the sum\n",
        "sum = Num1 + Num2\n",
        "\n",
        "# Outputting the result\n",
        "print(\"The sum of {0} and {1} is {2}\".format(Num1, Num2, sum))"
      ]
    },
    {
      "cell_type": "markdown",
      "source": [
        "# Example 2: Finding the Maximum of Three Numbers"
      ],
      "metadata": {
        "id": "HdBRFnhxKjSu"
      }
    },
    {
      "cell_type": "code",
      "source": [
        "# Taking input from the user\n",
        "num1 = int(input(\"Enter first number: \"))\n",
        "num2 = int(input(\"Enter second number: \"))\n",
        "num3 = int(input(\"Enter third number: \"))\n",
        "\n",
        "# Finding the maximum\n",
        "max_num = max(num1, num2, num3)\n",
        "\n",
        "# Outputting the result\n",
        "print(\"The maximum of {0}, {1}, and {2} is {3}\".format(num1, num2, num3, max_num))"
      ],
      "metadata": {
        "colab": {
          "base_uri": "https://localhost:8080/"
        },
        "id": "qc9M3AKgKlMY",
        "outputId": "fbe12f0a-7e22-400d-f747-7184513316c7"
      },
      "execution_count": null,
      "outputs": [
        {
          "output_type": "stream",
          "name": "stdout",
          "text": [
            "Enter first number: 56\n",
            "Enter second number: 87\n",
            "Enter third number: 56\n",
            "The maximum of 56, 87, and 56 is 87\n"
          ]
        }
      ]
    },
    {
      "cell_type": "markdown",
      "source": [
        "# Example 3: Checking if a Number is Even or Odd"
      ],
      "metadata": {
        "id": "8jGQSh2IK5Uc"
      }
    },
    {
      "cell_type": "code",
      "source": [
        "# Taking input from the user\n",
        "num = int(input(\"Enter a number: \"))\n",
        "\n",
        "# Checking if the number is even or odd\n",
        "if num % 2 == 0:\n",
        "    print(\"{0} is even\".format(num))\n",
        "else:\n",
        "    print(\"{0} is odd\".format(num))"
      ],
      "metadata": {
        "colab": {
          "base_uri": "https://localhost:8080/"
        },
        "id": "03iWpY0dK9DO",
        "outputId": "e5714994-56fe-4667-d6b7-dc868c866b56"
      },
      "execution_count": null,
      "outputs": [
        {
          "output_type": "stream",
          "name": "stdout",
          "text": [
            "Enter a number: 56\n",
            "56 is even\n"
          ]
        }
      ]
    },
    {
      "cell_type": "code",
      "source": [
        "# Taking input from the user\n",
        "num = int(input(\"Enter a number: \"))\n",
        "\n",
        "# Checking if the number is even or odd\n",
        "if num % 2 == 0:\n",
        "    print(\"{0} is even\".format(num))\n",
        "else:\n",
        "    print(\"{0} is odd\".format(num))"
      ],
      "metadata": {
        "colab": {
          "base_uri": "https://localhost:8080/"
        },
        "id": "uIKFOh4iLD6w",
        "outputId": "f9dc1da8-361c-42b1-a5ea-322229c1b904"
      },
      "execution_count": null,
      "outputs": [
        {
          "output_type": "stream",
          "name": "stdout",
          "text": [
            "Enter a number: 57\n",
            "57 is odd\n"
          ]
        }
      ]
    }
  ]
}