{
  "nbformat": 4,
  "nbformat_minor": 0,
  "metadata": {
    "colab": {
      "provenance": [],
      "authorship_tag": "ABX9TyN04qJfV+xT2F2mI3DwKhSH",
      "include_colab_link": true
    },
    "kernelspec": {
      "name": "python3",
      "display_name": "Python 3"
    },
    "language_info": {
      "name": "python"
    }
  },
  "cells": [
    {
      "cell_type": "markdown",
      "metadata": {
        "id": "view-in-github",
        "colab_type": "text"
      },
      "source": [
        "<a href=\"https://colab.research.google.com/github/AarifSheikh-78603/Python-Workspace/blob/main/Numpy.ipynb\" target=\"_parent\"><img src=\"https://colab.research.google.com/assets/colab-badge.svg\" alt=\"Open In Colab\"/></a>"
      ]
    },
    {
      "cell_type": "markdown",
      "source": [
        "## Importing Numpy"
      ],
      "metadata": {
        "id": "mkqjtH0pII1G"
      }
    },
    {
      "cell_type": "code",
      "execution_count": 1,
      "metadata": {
        "id": "lEb8eb79IF9P"
      },
      "outputs": [],
      "source": [
        "import numpy as np"
      ]
    },
    {
      "cell_type": "markdown",
      "source": [
        "## 0D Array Creation Function"
      ],
      "metadata": {
        "id": "nXDM3pPEN6r3"
      }
    },
    {
      "cell_type": "code",
      "source": [
        "arr = np.array(42)\n",
        "print(arr)"
      ],
      "metadata": {
        "colab": {
          "base_uri": "https://localhost:8080/"
        },
        "id": "G-9Ep9r7N-rt",
        "outputId": "5e00eafc-8a59-45d0-8487-bf6072997ca8"
      },
      "execution_count": 17,
      "outputs": [
        {
          "output_type": "stream",
          "name": "stdout",
          "text": [
            "42\n"
          ]
        }
      ]
    },
    {
      "cell_type": "markdown",
      "source": [
        "## 1D Array Creation Function"
      ],
      "metadata": {
        "id": "WGOsIGRJIQ9R"
      }
    },
    {
      "cell_type": "code",
      "source": [
        "np.arange(10)"
      ],
      "metadata": {
        "colab": {
          "base_uri": "https://localhost:8080/"
        },
        "id": "dWnRd-koIRSb",
        "outputId": "1504012a-5edb-4470-a2f1-39c100171832"
      },
      "execution_count": 2,
      "outputs": [
        {
          "output_type": "execute_result",
          "data": {
            "text/plain": [
              "array([0, 1, 2, 3, 4, 5, 6, 7, 8, 9])"
            ]
          },
          "metadata": {},
          "execution_count": 2
        }
      ]
    },
    {
      "cell_type": "code",
      "source": [
        "arr = np.array([1, 2, 3, 4, 5])\n",
        "print(arr)"
      ],
      "metadata": {
        "colab": {
          "base_uri": "https://localhost:8080/"
        },
        "id": "VhJwCayxIzCY",
        "outputId": "ceba705a-2029-44d7-c22c-99f673af2454"
      },
      "execution_count": 13,
      "outputs": [
        {
          "output_type": "stream",
          "name": "stdout",
          "text": [
            "[1 2 3 4 5]\n"
          ]
        }
      ]
    },
    {
      "cell_type": "code",
      "source": [
        "np.arange(2, 3, 0.1)"
      ],
      "metadata": {
        "colab": {
          "base_uri": "https://localhost:8080/"
        },
        "id": "ie438tRUJIh9",
        "outputId": "1102f597-111b-4a9a-e579-124bce586d28"
      },
      "execution_count": 7,
      "outputs": [
        {
          "output_type": "execute_result",
          "data": {
            "text/plain": [
              "array([2. , 2.1, 2.2, 2.3, 2.4, 2.5, 2.6, 2.7, 2.8, 2.9])"
            ]
          },
          "metadata": {},
          "execution_count": 7
        }
      ]
    },
    {
      "cell_type": "markdown",
      "source": [
        "numpy.linspace will create arrays with a specified number of elements, and spaced equally between the specified beginning and end values."
      ],
      "metadata": {
        "id": "dkmubIF_JeOE"
      }
    },
    {
      "cell_type": "code",
      "source": [
        "np.linspace(1., 4., 6)"
      ],
      "metadata": {
        "colab": {
          "base_uri": "https://localhost:8080/"
        },
        "id": "itTjDmLBJfZ1",
        "outputId": "a330e1ef-d7f6-471e-84b8-ee26a5cee898"
      },
      "execution_count": 9,
      "outputs": [
        {
          "output_type": "execute_result",
          "data": {
            "text/plain": [
              "array([1. , 1.6, 2.2, 2.8, 3.4, 4. ])"
            ]
          },
          "metadata": {},
          "execution_count": 9
        }
      ]
    },
    {
      "cell_type": "markdown",
      "source": [
        "## 2D Array Creation Functions"
      ],
      "metadata": {
        "id": "gYiCquHgJ3d8"
      }
    },
    {
      "cell_type": "code",
      "source": [
        "np.eye(3)"
      ],
      "metadata": {
        "colab": {
          "base_uri": "https://localhost:8080/"
        },
        "id": "aVgHrbf8J68J",
        "outputId": "8231b7be-a6d7-4be6-adfa-8fcfd48fdb8e"
      },
      "execution_count": 10,
      "outputs": [
        {
          "output_type": "execute_result",
          "data": {
            "text/plain": [
              "array([[1., 0., 0.],\n",
              "       [0., 1., 0.],\n",
              "       [0., 0., 1.]])"
            ]
          },
          "metadata": {},
          "execution_count": 10
        }
      ]
    },
    {
      "cell_type": "code",
      "source": [
        "arr = np.array([[1, 2, 3], [4, 5, 6]])\n",
        "print(arr)"
      ],
      "metadata": {
        "colab": {
          "base_uri": "https://localhost:8080/"
        },
        "id": "YIa3QxnnLlqn",
        "outputId": "2915ebf0-1484-4e72-8bcd-51e982474cab"
      },
      "execution_count": 14,
      "outputs": [
        {
          "output_type": "stream",
          "name": "stdout",
          "text": [
            "[[1 2 3]\n",
            " [4 5 6]]\n"
          ]
        }
      ]
    },
    {
      "cell_type": "markdown",
      "source": [
        "## 3D Array Creation Functions"
      ],
      "metadata": {
        "id": "evutwJ9pLrXB"
      }
    },
    {
      "cell_type": "code",
      "source": [
        "arr = np.array([[[1, 2, 3], [4, 5, 6]], [[1, 2, 3], [4, 5, 6]]])\n",
        "print(arr)"
      ],
      "metadata": {
        "colab": {
          "base_uri": "https://localhost:8080/"
        },
        "id": "4mzeVZqmLsFt",
        "outputId": "8faa584c-9a3a-46c6-fdd0-21cb91225a29"
      },
      "execution_count": 15,
      "outputs": [
        {
          "output_type": "stream",
          "name": "stdout",
          "text": [
            "[[[1 2 3]\n",
            "  [4 5 6]]\n",
            "\n",
            " [[1 2 3]\n",
            "  [4 5 6]]]\n"
          ]
        }
      ]
    },
    {
      "cell_type": "markdown",
      "source": [
        "## Check Number of Dimensions"
      ],
      "metadata": {
        "id": "HTwfr9pINugP"
      }
    },
    {
      "cell_type": "code",
      "source": [
        "a = np.array(42)\n",
        "b = np.array([1, 2, 3, 4, 5])\n",
        "c = np.array([[1, 2, 3], [4, 5, 6]])\n",
        "d = np.array([[[1, 2, 3], [4, 5, 6]], [[1, 2, 3], [4, 5, 6]]])\n",
        "\n",
        "print(a.ndim)\n",
        "print(b.ndim)\n",
        "print(c.ndim)\n",
        "print(d.ndim)"
      ],
      "metadata": {
        "colab": {
          "base_uri": "https://localhost:8080/"
        },
        "id": "EqxZhShdNyoa",
        "outputId": "27a25d0e-20df-4878-a751-b47e0136662a"
      },
      "execution_count": 16,
      "outputs": [
        {
          "output_type": "stream",
          "name": "stdout",
          "text": [
            "0\n",
            "1\n",
            "2\n",
            "3\n"
          ]
        }
      ]
    },
    {
      "cell_type": "code",
      "source": [
        "arr = np.array([1, 2, 3, 4], ndmin=5)\n",
        "\n",
        "print(arr)\n",
        "print('number of dimensions :', arr.ndim)"
      ],
      "metadata": {
        "colab": {
          "base_uri": "https://localhost:8080/"
        },
        "id": "LzOWvZNQNysM",
        "outputId": "f0d2d47a-a7a9-4f51-fa64-59c3e607a06f"
      },
      "execution_count": 18,
      "outputs": [
        {
          "output_type": "stream",
          "name": "stdout",
          "text": [
            "[[[[[1 2 3 4]]]]]\n",
            "number of dimensions : 5\n"
          ]
        }
      ]
    },
    {
      "cell_type": "markdown",
      "source": [
        "# Array Indexing"
      ],
      "metadata": {
        "id": "imLM2j_4KXrB"
      }
    },
    {
      "cell_type": "markdown",
      "source": [
        "## Access 1-D Array"
      ],
      "metadata": {
        "id": "kHyrUcrjP50w"
      }
    },
    {
      "cell_type": "code",
      "source": [
        "# Get the first element from the following array:\n",
        "arr = np.array([1, 2, 3, 4])\n",
        "print(arr[0])"
      ],
      "metadata": {
        "colab": {
          "base_uri": "https://localhost:8080/"
        },
        "id": "Y7DEgcINKyCn",
        "outputId": "e10b10c3-9913-4c08-d5ae-1e27ef828dbe"
      },
      "execution_count": 20,
      "outputs": [
        {
          "output_type": "stream",
          "name": "stdout",
          "text": [
            "1\n"
          ]
        }
      ]
    },
    {
      "cell_type": "code",
      "source": [
        "# Get the second element from the following array.\n",
        "arr = np.array([1, 2, 3, 4])\n",
        "print(arr[1])"
      ],
      "metadata": {
        "colab": {
          "base_uri": "https://localhost:8080/"
        },
        "id": "xXwtd2esOuet",
        "outputId": "8d9fa9dd-4b7c-4dc1-b82c-1723593b2bf7"
      },
      "execution_count": 21,
      "outputs": [
        {
          "output_type": "stream",
          "name": "stdout",
          "text": [
            "2\n"
          ]
        }
      ]
    },
    {
      "cell_type": "code",
      "source": [
        "# Get third and fourth elements from the following array and add them.\n",
        "arr = np.array([1, 2, 3, 4])\n",
        "print(arr[2], arr[3])"
      ],
      "metadata": {
        "colab": {
          "base_uri": "https://localhost:8080/"
        },
        "id": "VIQxOEgkO4_-",
        "outputId": "d07f4755-a3ed-43e3-918c-9c27b41ab252"
      },
      "execution_count": 25,
      "outputs": [
        {
          "output_type": "stream",
          "name": "stdout",
          "text": [
            "3 4\n"
          ]
        }
      ]
    },
    {
      "cell_type": "code",
      "source": [
        "# Get the last element from the following array.\n",
        "arr = np.array([1, 2, 3, 4])\n",
        "print(arr[-1])"
      ],
      "metadata": {
        "colab": {
          "base_uri": "https://localhost:8080/"
        },
        "id": "FLPjbgf0QIfy",
        "outputId": "2e849420-9126-4cf7-9151-77c0012d0381"
      },
      "execution_count": 30,
      "outputs": [
        {
          "output_type": "stream",
          "name": "stdout",
          "text": [
            "4\n"
          ]
        }
      ]
    },
    {
      "cell_type": "markdown",
      "source": [
        "## Access 2-D Arrays"
      ],
      "metadata": {
        "id": "ieBwB_raPLCv"
      }
    },
    {
      "cell_type": "code",
      "source": [
        "# Access the element on the first row, second column:\n",
        "arr = np.array([[1,2,3,4,5], [6,7,8,9,10]])\n",
        "print('2nd element on 1st row: ', arr[0, 1])"
      ],
      "metadata": {
        "colab": {
          "base_uri": "https://localhost:8080/"
        },
        "id": "vDrQ2BCbPPCF",
        "outputId": "c4095726-7a5c-4ecf-9d9a-9f93aaa3521c"
      },
      "execution_count": 26,
      "outputs": [
        {
          "output_type": "stream",
          "name": "stdout",
          "text": [
            "2nd element on 1st row:  2\n"
          ]
        }
      ]
    },
    {
      "cell_type": "code",
      "source": [
        "# Access the element on the 2nd row, 5th column:\n",
        "arr = np.array([[1,2,3,4,5], [6,7,8,9,10]])\n",
        "print('5th element on 2nd row: ', arr[1, 4])"
      ],
      "metadata": {
        "colab": {
          "base_uri": "https://localhost:8080/"
        },
        "id": "IyEMqfo6PXQv",
        "outputId": "2d780f44-4bc9-4325-f3c7-845373f95af2"
      },
      "execution_count": 27,
      "outputs": [
        {
          "output_type": "stream",
          "name": "stdout",
          "text": [
            "5th element on 2nd row:  10\n"
          ]
        }
      ]
    },
    {
      "cell_type": "code",
      "source": [
        "# Print the last element from the 2nd dim:\n",
        "arr = np.array([[1,2,3,4,5], [6,7,8,9,10]])\n",
        "print('Last element from 2nd dim: ', arr[1, -1])"
      ],
      "metadata": {
        "colab": {
          "base_uri": "https://localhost:8080/"
        },
        "id": "MWvAkbIDPv70",
        "outputId": "b38fbc98-990f-4199-e651-8f40de921138"
      },
      "execution_count": 29,
      "outputs": [
        {
          "output_type": "stream",
          "name": "stdout",
          "text": [
            "Last element from 2nd dim:  10\n"
          ]
        }
      ]
    },
    {
      "cell_type": "markdown",
      "source": [
        "## Access 3-D Array"
      ],
      "metadata": {
        "id": "aoURdIBBPfQs"
      }
    },
    {
      "cell_type": "code",
      "source": [
        "# Access the third element of the second array of the first array:\n",
        "arr = np.array([[[1, 2, 3], [4, 5, 6]], [[7, 8, 9], [10, 11, 12]]])\n",
        "print(arr[0, 1, 2])"
      ],
      "metadata": {
        "colab": {
          "base_uri": "https://localhost:8080/"
        },
        "id": "El4TlLbUPjdZ",
        "outputId": "68d53026-0b11-4b07-f7c1-2226a8e0a35a"
      },
      "execution_count": 28,
      "outputs": [
        {
          "output_type": "stream",
          "name": "stdout",
          "text": [
            "6\n"
          ]
        }
      ]
    },
    {
      "cell_type": "code",
      "source": [
        "# Access the third element of the second array of the first array:\n",
        "arr = np.array([[[1, 2, 3], [4, 5, 6]], [[7, 8, 9], [10, 11, 12]]])\n",
        "print(arr[-2, -1, -1])"
      ],
      "metadata": {
        "colab": {
          "base_uri": "https://localhost:8080/"
        },
        "id": "B5sRAbM4QQvz",
        "outputId": "7c2cb612-ba4a-4343-9699-7cfffec01f8a"
      },
      "execution_count": 35,
      "outputs": [
        {
          "output_type": "stream",
          "name": "stdout",
          "text": [
            "6\n"
          ]
        }
      ]
    },
    {
      "cell_type": "markdown",
      "source": [
        "# NumPy Array Slicing"
      ],
      "metadata": {
        "id": "btMNVo2PQycl"
      }
    },
    {
      "cell_type": "code",
      "source": [
        "# Slice elements from index 1 to index 5 from the following array:\n",
        "arr = np.array([1, 2, 3, 4, 5, 6, 7])\n",
        "print(arr[1:5])"
      ],
      "metadata": {
        "colab": {
          "base_uri": "https://localhost:8080/"
        },
        "id": "1zFbRl8WQ18R",
        "outputId": "e96bb5a7-56c6-4f42-f696-054e646b9273"
      },
      "execution_count": 36,
      "outputs": [
        {
          "output_type": "stream",
          "name": "stdout",
          "text": [
            "[2 3 4 5]\n"
          ]
        }
      ]
    },
    {
      "cell_type": "code",
      "source": [
        "# Slice elements from index 4 to the end of the array:\n",
        "arr = np.array([1, 2, 3, 4, 5, 6, 7])\n",
        "print(arr[4:])"
      ],
      "metadata": {
        "colab": {
          "base_uri": "https://localhost:8080/"
        },
        "id": "jpG0QP4GRBz6",
        "outputId": "f3f6adfd-a667-492c-9186-b62b19e692d8"
      },
      "execution_count": 37,
      "outputs": [
        {
          "output_type": "stream",
          "name": "stdout",
          "text": [
            "[5 6 7]\n"
          ]
        }
      ]
    },
    {
      "cell_type": "code",
      "source": [
        "# Slice elements from the beginning to index 4 (not included):\n",
        "arr = np.array([1, 2, 3, 4, 5, 6, 7])\n",
        "print(arr[:4])"
      ],
      "metadata": {
        "colab": {
          "base_uri": "https://localhost:8080/"
        },
        "id": "2dm04RblRGoE",
        "outputId": "24f8c2db-81c8-4fc5-95ee-689260ab85bb"
      },
      "execution_count": 38,
      "outputs": [
        {
          "output_type": "stream",
          "name": "stdout",
          "text": [
            "[1 2 3 4]\n"
          ]
        }
      ]
    },
    {
      "cell_type": "code",
      "source": [
        "# Slice from the index 3 from the end to index 1 from the end:\n",
        "arr = np.array([1, 2, 3, 4, 5, 6, 7])\n",
        "print(arr[-3:-1])"
      ],
      "metadata": {
        "colab": {
          "base_uri": "https://localhost:8080/"
        },
        "id": "DcxsvNmpRLaa",
        "outputId": "eb496092-c01e-4897-a6e3-2519e206e9db"
      },
      "execution_count": 39,
      "outputs": [
        {
          "output_type": "stream",
          "name": "stdout",
          "text": [
            "[5 6]\n"
          ]
        }
      ]
    },
    {
      "cell_type": "code",
      "source": [
        "# Return every other element from index 1 to index 5:\n",
        "arr = np.array([1, 2, 3, 4, 5, 6, 7])\n",
        "print(arr[1:5:2])"
      ],
      "metadata": {
        "colab": {
          "base_uri": "https://localhost:8080/"
        },
        "id": "YPeiHYIDRVIK",
        "outputId": "c2db3f60-9f5a-4bdb-e023-37d163df68ca"
      },
      "execution_count": 40,
      "outputs": [
        {
          "output_type": "stream",
          "name": "stdout",
          "text": [
            "[2 4]\n"
          ]
        }
      ]
    },
    {
      "cell_type": "code",
      "source": [
        "# Return every other element from the entire array:\n",
        "arr = np.array([1, 2, 3, 4, 5, 6, 7])\n",
        "print(arr[::2])"
      ],
      "metadata": {
        "colab": {
          "base_uri": "https://localhost:8080/"
        },
        "id": "c0GzN2r7RYLi",
        "outputId": "e125fa88-cce5-4694-b0dd-61c6145f8a24"
      },
      "execution_count": 41,
      "outputs": [
        {
          "output_type": "stream",
          "name": "stdout",
          "text": [
            "[1 3 5 7]\n"
          ]
        }
      ]
    },
    {
      "cell_type": "code",
      "source": [
        "# From the second element, slice elements from index 1 to index 4 (not included):\n",
        "arr = np.array([[1, 2, 3, 4, 5], [6, 7, 8, 9, 10]])\n",
        "print(arr[1, 1:4])"
      ],
      "metadata": {
        "colab": {
          "base_uri": "https://localhost:8080/"
        },
        "id": "LeNZbfVWRl_2",
        "outputId": "2c8c525b-b759-435c-e709-600370016fc2"
      },
      "execution_count": 42,
      "outputs": [
        {
          "output_type": "stream",
          "name": "stdout",
          "text": [
            "[7 8 9]\n"
          ]
        }
      ]
    },
    {
      "cell_type": "code",
      "source": [
        "# From both elements, return index 2:\n",
        "arr = np.array([[1, 2, 3, 4, 5], [6, 7, 8, 9, 10]])\n",
        "print(arr[0:2, 2])"
      ],
      "metadata": {
        "colab": {
          "base_uri": "https://localhost:8080/"
        },
        "id": "n8-KJ9_0Royp",
        "outputId": "0595aeaf-2862-413f-d96d-2808c37a7fda"
      },
      "execution_count": 43,
      "outputs": [
        {
          "output_type": "stream",
          "name": "stdout",
          "text": [
            "[3 8]\n"
          ]
        }
      ]
    },
    {
      "cell_type": "code",
      "source": [
        "# From both elements, slice index 1 to index 4 (not included), this will return a 2-D array:\n",
        "arr = np.array([[1, 2, 3, 4, 5], [6, 7, 8, 9, 10]])\n",
        "print(arr[0:2, 1:4])"
      ],
      "metadata": {
        "colab": {
          "base_uri": "https://localhost:8080/"
        },
        "id": "U0EO4KfxRwBH",
        "outputId": "a09a80cb-f72f-4f0b-9e1e-14940fdb1a25"
      },
      "execution_count": 44,
      "outputs": [
        {
          "output_type": "stream",
          "name": "stdout",
          "text": [
            "[[2 3 4]\n",
            " [7 8 9]]\n"
          ]
        }
      ]
    },
    {
      "cell_type": "markdown",
      "source": [
        "# Numpy Data Types"
      ],
      "metadata": {
        "id": "u8VdVH1ZSF4N"
      }
    },
    {
      "cell_type": "code",
      "source": [
        "# Get the data type of an array object:\n",
        "arr = np.array([1, 2, 3, 4])\n",
        "print(arr.dtype)"
      ],
      "metadata": {
        "colab": {
          "base_uri": "https://localhost:8080/"
        },
        "id": "84OS7EHlSL26",
        "outputId": "40b9c76d-03e3-4a2e-d9b7-56faeccd7b24"
      },
      "execution_count": 45,
      "outputs": [
        {
          "output_type": "stream",
          "name": "stdout",
          "text": [
            "int64\n"
          ]
        }
      ]
    },
    {
      "cell_type": "code",
      "source": [
        "# Get the data type of an array containing strings:\n",
        "arr = np.array(['apple', 'banana', 'cherry'])\n",
        "print(arr.dtype)"
      ],
      "metadata": {
        "colab": {
          "base_uri": "https://localhost:8080/"
        },
        "id": "JVzXFrE3SSMe",
        "outputId": "c120ba77-1b0d-4e93-c88f-a2b6f90b504d"
      },
      "execution_count": 46,
      "outputs": [
        {
          "output_type": "stream",
          "name": "stdout",
          "text": [
            "<U6\n"
          ]
        }
      ]
    },
    {
      "cell_type": "code",
      "source": [
        "# Get the data type of an array containing strings:\n",
        "arr = np.array([45, 'banana', 'cherry', 'apple'])\n",
        "print(arr.dtype)\n",
        "\n",
        "# This indicates that the array has been upcast to a\n",
        "# Unicode string type with a maximum length of 21 characters."
      ],
      "metadata": {
        "colab": {
          "base_uri": "https://localhost:8080/"
        },
        "id": "1CE4OHisSWUM",
        "outputId": "4f6640a1-5de4-4436-cea0-088b5f17e5bc"
      },
      "execution_count": 48,
      "outputs": [
        {
          "output_type": "stream",
          "name": "stdout",
          "text": [
            "<U21\n"
          ]
        }
      ]
    },
    {
      "cell_type": "markdown",
      "source": [
        "# Numpy Array Shape"
      ],
      "metadata": {
        "id": "uapSmTJpS-P2"
      }
    },
    {
      "cell_type": "code",
      "source": [
        "# Print the shape of a 2-D array:\n",
        "arr = np.array([[1, 2, 3, 4], [5, 6, 7, 8]])\n",
        "print(arr.shape)"
      ],
      "metadata": {
        "colab": {
          "base_uri": "https://localhost:8080/"
        },
        "id": "8Xcg9kHdTA1c",
        "outputId": "9e16886d-0e9d-414e-ec0c-a8512cfbc7ee"
      },
      "execution_count": 49,
      "outputs": [
        {
          "output_type": "stream",
          "name": "stdout",
          "text": [
            "(2, 4)\n"
          ]
        }
      ]
    },
    {
      "cell_type": "code",
      "source": [
        "# Create an array with 5 dimensions using ndmin using a\n",
        "# vector with values 1,2,3,4 and verify that last dimension has value 4:\n",
        "arr = np.array([1, 2, 3, 4], ndmin=5)\n",
        "print(arr)\n",
        "print('shape of array :', arr.shape)"
      ],
      "metadata": {
        "colab": {
          "base_uri": "https://localhost:8080/"
        },
        "id": "CqhKB-vVTK8-",
        "outputId": "d0c8e1e5-1676-4e99-9b38-632668a30443"
      },
      "execution_count": 50,
      "outputs": [
        {
          "output_type": "stream",
          "name": "stdout",
          "text": [
            "[[[[[1 2 3 4]]]]]\n",
            "shape of array : (1, 1, 1, 1, 4)\n"
          ]
        }
      ]
    },
    {
      "cell_type": "markdown",
      "source": [
        "# NumPy Array Reshaping"
      ],
      "metadata": {
        "id": "hklH4V8WTYml"
      }
    },
    {
      "cell_type": "markdown",
      "source": [
        "## Reshape from 1-D to 2-D"
      ],
      "metadata": {
        "id": "HbjRqPDfTnrx"
      }
    },
    {
      "cell_type": "code",
      "source": [
        "# Convert the following 1-D array with 12 elements into a 2-D array.\n",
        "# The outermost dimension will have 4 arrays, each with 3 elements:\n",
        "\n",
        "arr = np.array([1, 2, 3, 4, 5, 6, 7, 8, 9, 10, 11, 12])\n",
        "newarr = arr.reshape(4, 3)\n",
        "print(newarr)"
      ],
      "metadata": {
        "colab": {
          "base_uri": "https://localhost:8080/"
        },
        "id": "L8OqrkIfTb9x",
        "outputId": "bd28a011-a5c9-4778-cfd5-7e2302512b3a"
      },
      "execution_count": 51,
      "outputs": [
        {
          "output_type": "stream",
          "name": "stdout",
          "text": [
            "[[ 1  2  3]\n",
            " [ 4  5  6]\n",
            " [ 7  8  9]\n",
            " [10 11 12]]\n"
          ]
        }
      ]
    },
    {
      "cell_type": "markdown",
      "source": [
        "## Reshape from 1-D to 3-D"
      ],
      "metadata": {
        "id": "v0xnJhNhTuJe"
      }
    },
    {
      "cell_type": "code",
      "source": [
        "# Convert the following 1-D array with 12 elements into a 3-D array.\n",
        "#The outermost dimension will have 2 arrays that contains 3 arrays, each with 2 elements:\n",
        "\n",
        "arr = np.array([1, 2, 3, 4, 5, 6, 7, 8, 9, 10, 11, 12])\n",
        "newarr = arr.reshape(2, 3, 2)\n",
        "print(newarr)"
      ],
      "metadata": {
        "colab": {
          "base_uri": "https://localhost:8080/"
        },
        "id": "Je4OVrzvTlgk",
        "outputId": "2b9ebe98-7744-4df6-f545-3415c8b5156c"
      },
      "execution_count": 52,
      "outputs": [
        {
          "output_type": "stream",
          "name": "stdout",
          "text": [
            "[[[ 1  2]\n",
            "  [ 3  4]\n",
            "  [ 5  6]]\n",
            "\n",
            " [[ 7  8]\n",
            "  [ 9 10]\n",
            "  [11 12]]]\n"
          ]
        }
      ]
    },
    {
      "cell_type": "markdown",
      "source": [
        "# NumPy Joining Array"
      ],
      "metadata": {
        "id": "O3Xu5RpaUNZC"
      }
    },
    {
      "cell_type": "markdown",
      "source": [
        "## Joining NumPy Arrays"
      ],
      "metadata": {
        "id": "vVY7X8BPUg3F"
      }
    },
    {
      "cell_type": "code",
      "source": [
        "# Join two arrays\n",
        "arr1 = np.array([1, 2, 3])\n",
        "arr2 = np.array([4, 5, 6])\n",
        "arr = np.concatenate((arr1, arr2))\n",
        "print(arr)"
      ],
      "metadata": {
        "colab": {
          "base_uri": "https://localhost:8080/"
        },
        "id": "qqYC8PQ4URGf",
        "outputId": "45da937c-7e17-431e-8189-180c4e4ca571"
      },
      "execution_count": 54,
      "outputs": [
        {
          "output_type": "stream",
          "name": "stdout",
          "text": [
            "[1 2 3 4 5 6]\n"
          ]
        }
      ]
    },
    {
      "cell_type": "code",
      "source": [
        "# Join two 2-D arrays along rows (axis=1):\n",
        "arr1 = np.array([[1, 2], [3, 4]])\n",
        "arr2 = np.array([[5, 6], [7, 8]])\n",
        "arr = np.concatenate((arr1, arr2), axis=1)\n",
        "print(arr)"
      ],
      "metadata": {
        "colab": {
          "base_uri": "https://localhost:8080/"
        },
        "id": "kpOK0hC-UWzr",
        "outputId": "4cf52b31-94c8-4b58-abe3-6017d1f91619"
      },
      "execution_count": 55,
      "outputs": [
        {
          "output_type": "stream",
          "name": "stdout",
          "text": [
            "[[1 2 5 6]\n",
            " [3 4 7 8]]\n"
          ]
        }
      ]
    },
    {
      "cell_type": "markdown",
      "source": [
        "## Joining Arrays Using Stack Functions"
      ],
      "metadata": {
        "id": "AdhaYR1QUjKd"
      }
    },
    {
      "cell_type": "code",
      "source": [
        "arr1 = np.array([1, 2, 3])\n",
        "arr2 = np.array([4, 5, 6])\n",
        "arr = np.stack((arr1, arr2), axis=1)\n",
        "print(arr)"
      ],
      "metadata": {
        "colab": {
          "base_uri": "https://localhost:8080/"
        },
        "id": "ZJlO37O2UkLu",
        "outputId": "7a089ca6-9efe-43a5-d9e8-133b6fa28dea"
      },
      "execution_count": 56,
      "outputs": [
        {
          "output_type": "stream",
          "name": "stdout",
          "text": [
            "[[1 4]\n",
            " [2 5]\n",
            " [3 6]]\n"
          ]
        }
      ]
    },
    {
      "cell_type": "code",
      "source": [
        "# Stacking Along Rows\n",
        "\n",
        "arr1 = np.array([1, 2, 3])\n",
        "arr2 = np.array([4, 5, 6])\n",
        "arr = np.hstack((arr1, arr2))\n",
        "print(arr)"
      ],
      "metadata": {
        "colab": {
          "base_uri": "https://localhost:8080/"
        },
        "id": "M5V2UBWfUwUd",
        "outputId": "c33c4c8f-87db-4b5e-e68e-eddc92d9530b"
      },
      "execution_count": 57,
      "outputs": [
        {
          "output_type": "stream",
          "name": "stdout",
          "text": [
            "[1 2 3 4 5 6]\n"
          ]
        }
      ]
    },
    {
      "cell_type": "code",
      "source": [
        "# Stacking Along Columns\n",
        "\n",
        "arr1 = np.array([1, 2, 3])\n",
        "arr2 = np.array([4, 5, 6])\n",
        "arr = np.vstack((arr1, arr2))\n",
        "print(arr)"
      ],
      "metadata": {
        "colab": {
          "base_uri": "https://localhost:8080/"
        },
        "id": "2EpUPI5EU33t",
        "outputId": "ef05fe60-2611-4c6f-e4bb-f90db6a2ce39"
      },
      "execution_count": 58,
      "outputs": [
        {
          "output_type": "stream",
          "name": "stdout",
          "text": [
            "[[1 2 3]\n",
            " [4 5 6]]\n"
          ]
        }
      ]
    },
    {
      "cell_type": "code",
      "source": [
        "# Stacking Along Height (depth)\n",
        "\n",
        "arr1 = np.array([1, 2, 3])\n",
        "arr2 = np.array([4, 5, 6])\n",
        "arr = np.dstack((arr1, arr2))\n",
        "print(arr)"
      ],
      "metadata": {
        "colab": {
          "base_uri": "https://localhost:8080/"
        },
        "id": "Fz3tfpfAVAeN",
        "outputId": "fd37ecc8-9642-4ed4-9ec0-9f97469d5cf1"
      },
      "execution_count": 59,
      "outputs": [
        {
          "output_type": "stream",
          "name": "stdout",
          "text": [
            "[[[1 4]\n",
            "  [2 5]\n",
            "  [3 6]]]\n"
          ]
        }
      ]
    },
    {
      "cell_type": "markdown",
      "source": [
        "# NumPy Sorting Array"
      ],
      "metadata": {
        "id": "s2RSB_mFVkzz"
      }
    },
    {
      "cell_type": "code",
      "source": [
        "# Sort the array:\n",
        "arr = np.array([3, 2, 0, 1])\n",
        "print(np.sort(arr))"
      ],
      "metadata": {
        "colab": {
          "base_uri": "https://localhost:8080/"
        },
        "id": "KO7jtkIAVCo1",
        "outputId": "0db2f2f5-b40a-4b9c-9a6e-5a9be32bea54"
      },
      "execution_count": 60,
      "outputs": [
        {
          "output_type": "stream",
          "name": "stdout",
          "text": [
            "[0 1 2 3]\n"
          ]
        }
      ]
    },
    {
      "cell_type": "code",
      "source": [
        "# Sort the array alphabetically:\n",
        "arr = np.array(['banana', 'cherry', 'apple'])\n",
        "print(np.sort(arr))"
      ],
      "metadata": {
        "colab": {
          "base_uri": "https://localhost:8080/"
        },
        "id": "FIgO6SwYVv_l",
        "outputId": "593fb89e-56b4-43b2-ecab-c7e53fc1ed7c"
      },
      "execution_count": 61,
      "outputs": [
        {
          "output_type": "stream",
          "name": "stdout",
          "text": [
            "['apple' 'banana' 'cherry']\n"
          ]
        }
      ]
    },
    {
      "cell_type": "code",
      "source": [
        "# Sort a 2-D array:\n",
        "arr = np.array([[3, 2, 4], [5, 0, 1]])\n",
        "print(np.sort(arr))"
      ],
      "metadata": {
        "colab": {
          "base_uri": "https://localhost:8080/"
        },
        "id": "25EARVUsV-YA",
        "outputId": "838ed9c9-18c0-4e5e-9a1d-f266a00fa0d8"
      },
      "execution_count": 63,
      "outputs": [
        {
          "output_type": "stream",
          "name": "stdout",
          "text": [
            "[[2 3 4]\n",
            " [0 1 5]]\n"
          ]
        }
      ]
    },
    {
      "cell_type": "markdown",
      "source": [
        "# NumPy Searching Arrays"
      ],
      "metadata": {
        "id": "YmarW7XoWHMJ"
      }
    },
    {
      "cell_type": "code",
      "source": [
        "# Find the indexes where the value is 4:\n",
        "arr = np.array([1, 2, 3, 4, 5, 4, 4])\n",
        "x = np.where(arr == 4)\n",
        "print(x)\n",
        "\n",
        "# The example above will return a tuple: (array([3, 5, 6],)\n",
        "# Which means that the value 4 is present at index 3, 5, and 6."
      ],
      "metadata": {
        "colab": {
          "base_uri": "https://localhost:8080/"
        },
        "id": "kX3zWGZTWKMZ",
        "outputId": "355545b5-5dd0-4644-a80a-9a301c19f18f"
      },
      "execution_count": 64,
      "outputs": [
        {
          "output_type": "stream",
          "name": "stdout",
          "text": [
            "(array([3, 5, 6]),)\n"
          ]
        }
      ]
    },
    {
      "cell_type": "code",
      "source": [
        "# Find the indexes where the values are even:\n",
        "arr = np.array([1, 2, 3, 4, 5, 6, 7, 8])\n",
        "x = np.where(arr%2 == 0)\n",
        "print(x)"
      ],
      "metadata": {
        "colab": {
          "base_uri": "https://localhost:8080/"
        },
        "id": "W_MhJQKzWjii",
        "outputId": "57b93f70-7e4d-4d5a-d68f-60d167ebd89c"
      },
      "execution_count": 65,
      "outputs": [
        {
          "output_type": "stream",
          "name": "stdout",
          "text": [
            "(array([1, 3, 5, 7]),)\n"
          ]
        }
      ]
    },
    {
      "cell_type": "code",
      "source": [
        "# Find the indexes where the values are odd:\n",
        "arr = np.array([1, 2, 3, 4, 5, 6, 7, 8])\n",
        "x = np.where(arr%2 == 1)\n",
        "print(x)"
      ],
      "metadata": {
        "colab": {
          "base_uri": "https://localhost:8080/"
        },
        "id": "16aomjAkWpD4",
        "outputId": "4a181d0a-fc09-4df1-f143-40a87da44584"
      },
      "execution_count": 66,
      "outputs": [
        {
          "output_type": "stream",
          "name": "stdout",
          "text": [
            "(array([0, 2, 4, 6]),)\n"
          ]
        }
      ]
    }
  ]
}