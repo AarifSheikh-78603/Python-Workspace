{
  "nbformat": 4,
  "nbformat_minor": 0,
  "metadata": {
    "colab": {
      "provenance": [],
      "collapsed_sections": [
        "j3QmU-exWBll",
        "-z-ykalWWFmN",
        "CM-v263kWZND",
        "sUWjV52qZnE-",
        "Z_TfanoLZrFH",
        "uxDlXDUTbJI_",
        "Kxgv0rRUcLl3",
        "b4FB2fJZfdrE",
        "7Pn32BZoeGaz",
        "dits1lT4hXVS",
        "27Fam45pgnI_",
        "et2ZQz5hgvgL",
        "fsdCbuArhBQ8"
      ],
      "authorship_tag": "ABX9TyOOT4bx9thCC4sH5ZlcL+FR",
      "include_colab_link": true
    },
    "kernelspec": {
      "name": "python3",
      "display_name": "Python 3"
    },
    "language_info": {
      "name": "python"
    }
  },
  "cells": [
    {
      "cell_type": "markdown",
      "metadata": {
        "id": "view-in-github",
        "colab_type": "text"
      },
      "source": [
        "<a href=\"https://colab.research.google.com/github/AarifSheikh-78603/Python-Workspace/blob/main/Dictionary.ipynb\" target=\"_parent\"><img src=\"https://colab.research.google.com/assets/colab-badge.svg\" alt=\"Open In Colab\"/></a>"
      ]
    },
    {
      "cell_type": "markdown",
      "source": [
        "# DICTIONARY"
      ],
      "metadata": {
        "id": "j3QmU-exWBll"
      }
    },
    {
      "cell_type": "markdown",
      "source": [
        "## Create an empty dictionary"
      ],
      "metadata": {
        "id": "-z-ykalWWFmN"
      }
    },
    {
      "cell_type": "code",
      "execution_count": null,
      "metadata": {
        "colab": {
          "base_uri": "https://localhost:8080/"
        },
        "id": "HwdPh26JV2Ui",
        "outputId": "d3d5634c-1486-4719-dff7-5ffa0ba1290a"
      },
      "outputs": [
        {
          "output_type": "execute_result",
          "data": {
            "text/plain": [
              "{}"
            ]
          },
          "metadata": {},
          "execution_count": 1
        }
      ],
      "source": [
        "Dict1={}\n",
        "Dict1"
      ]
    },
    {
      "cell_type": "code",
      "source": [
        "Dict1=dict()\n",
        "Dict1"
      ],
      "metadata": {
        "colab": {
          "base_uri": "https://localhost:8080/"
        },
        "id": "9PfCYadPWTYS",
        "outputId": "ff96e8d2-a6d4-487d-cb1f-c52a795f330f"
      },
      "execution_count": null,
      "outputs": [
        {
          "output_type": "execute_result",
          "data": {
            "text/plain": [
              "{}"
            ]
          },
          "metadata": {},
          "execution_count": 2
        }
      ]
    },
    {
      "cell_type": "markdown",
      "source": [
        "## Create Dictionary."
      ],
      "metadata": {
        "id": "CM-v263kWZND"
      }
    },
    {
      "cell_type": "code",
      "source": [
        "Dict1={1:'a',2:'b',3:'c'}\n",
        "Dict1"
      ],
      "metadata": {
        "colab": {
          "base_uri": "https://localhost:8080/"
        },
        "id": "5HpOZKPqWkmp",
        "outputId": "cbd6c3e1-2dba-4d99-a9fa-89a16d92ce9f"
      },
      "execution_count": null,
      "outputs": [
        {
          "output_type": "execute_result",
          "data": {
            "text/plain": [
              "{1: 'a', 2: 'b', 3: 'c'}"
            ]
          },
          "metadata": {},
          "execution_count": 3
        }
      ]
    },
    {
      "cell_type": "code",
      "source": [
        "Dict1=dict({1:'a',2:'b',3:'c'})\n",
        "Dict1"
      ],
      "metadata": {
        "colab": {
          "base_uri": "https://localhost:8080/"
        },
        "id": "yemKdwuBZU13",
        "outputId": "71d9b19b-bd33-432b-a94d-809a271e74ae"
      },
      "execution_count": null,
      "outputs": [
        {
          "output_type": "execute_result",
          "data": {
            "text/plain": [
              "{1: 'a', 2: 'b', 3: 'c'}"
            ]
          },
          "metadata": {},
          "execution_count": 4
        }
      ]
    },
    {
      "cell_type": "code",
      "source": [
        "D1={'Rahmanullah Gurbaz (AFG)': '281', 'RG Sharma (IND)': '257', 'TM Head (AUS)': '255', 'Q de Kock (SA)': '243', 'Ibrahim Zadran (AFG)': '231', 'N Pooran (WI)': '228', 'AGS Gous (USA)': '219', 'JC Buttler (ENG)': '214'}\n",
        "D1"
      ],
      "metadata": {
        "colab": {
          "base_uri": "https://localhost:8080/"
        },
        "id": "umAUuDjSZZbl",
        "outputId": "4a215530-df9b-4c55-9fda-6e03535b8cdd"
      },
      "execution_count": null,
      "outputs": [
        {
          "output_type": "execute_result",
          "data": {
            "text/plain": [
              "{'Rahmanullah Gurbaz (AFG)': '281',\n",
              " 'RG Sharma (IND)': '257',\n",
              " 'TM Head (AUS)': '255',\n",
              " 'Q de Kock (SA)': '243',\n",
              " 'Ibrahim Zadran (AFG)': '231',\n",
              " 'N Pooran (WI)': '228',\n",
              " 'AGS Gous (USA)': '219',\n",
              " 'JC Buttler (ENG)': '214'}"
            ]
          },
          "metadata": {},
          "execution_count": 22
        }
      ]
    },
    {
      "cell_type": "markdown",
      "source": [
        "#Accessing Values In Dictionary"
      ],
      "metadata": {
        "id": "sUWjV52qZnE-"
      }
    },
    {
      "cell_type": "markdown",
      "source": [
        "## For accessing dictionary items using - []"
      ],
      "metadata": {
        "id": "Z_TfanoLZrFH"
      }
    },
    {
      "cell_type": "code",
      "source": [
        "D1['Rahmanullah Gurbaz (AFG)']"
      ],
      "metadata": {
        "colab": {
          "base_uri": "https://localhost:8080/"
        },
        "id": "5skSx6uCZ7TJ",
        "outputId": "748d222f-caf1-4ad6-86c2-bce4a63eb517"
      },
      "execution_count": null,
      "outputs": [
        {
          "output_type": "execute_result",
          "data": {
            "text/plain": [
              "'281'"
            ],
            "application/vnd.google.colaboratory.intrinsic+json": {
              "type": "string"
            }
          },
          "metadata": {},
          "execution_count": 23
        }
      ]
    },
    {
      "cell_type": "code",
      "source": [
        "D1['RG Sharma (IND)']"
      ],
      "metadata": {
        "colab": {
          "base_uri": "https://localhost:8080/"
        },
        "id": "0d4E-_NvaDQY",
        "outputId": "bc4f5c87-5ce1-4923-9619-55edb2d3e698"
      },
      "execution_count": null,
      "outputs": [
        {
          "output_type": "execute_result",
          "data": {
            "text/plain": [
              "'257'"
            ],
            "application/vnd.google.colaboratory.intrinsic+json": {
              "type": "string"
            }
          },
          "metadata": {},
          "execution_count": 24
        }
      ]
    },
    {
      "cell_type": "markdown",
      "source": [
        "## For accessing dictionary items using - get()"
      ],
      "metadata": {
        "id": "zeohsWuyakLk"
      }
    },
    {
      "cell_type": "code",
      "source": [
        "D1.get('Rahmanullah Gurbaz (AFG)')"
      ],
      "metadata": {
        "colab": {
          "base_uri": "https://localhost:8080/"
        },
        "id": "t-5tUM3Kan99",
        "outputId": "d44f3e81-8d73-4534-eb52-0d13826f4238"
      },
      "execution_count": null,
      "outputs": [
        {
          "output_type": "execute_result",
          "data": {
            "text/plain": [
              "'281'"
            ],
            "application/vnd.google.colaboratory.intrinsic+json": {
              "type": "string"
            }
          },
          "metadata": {},
          "execution_count": 25
        }
      ]
    },
    {
      "cell_type": "code",
      "source": [
        "D1.get('RG Sharma (IND)')"
      ],
      "metadata": {
        "colab": {
          "base_uri": "https://localhost:8080/"
        },
        "id": "tcXh69Niaq6M",
        "outputId": "71e2c347-5fcd-483d-ddcf-3afbfd5e3e42"
      },
      "execution_count": null,
      "outputs": [
        {
          "output_type": "execute_result",
          "data": {
            "text/plain": [
              "'257'"
            ],
            "application/vnd.google.colaboratory.intrinsic+json": {
              "type": "string"
            }
          },
          "metadata": {},
          "execution_count": 26
        }
      ]
    },
    {
      "cell_type": "markdown",
      "source": [
        "# Updating Dictionary"
      ],
      "metadata": {
        "id": "OlLagxBRbD_k"
      }
    },
    {
      "cell_type": "markdown",
      "source": [
        "## Updating values in dictionary"
      ],
      "metadata": {
        "id": "uxDlXDUTbJI_"
      }
    },
    {
      "cell_type": "code",
      "source": [
        "D1['Rahmanullah Gurbaz (AFG)']=282\n",
        "D1"
      ],
      "metadata": {
        "colab": {
          "base_uri": "https://localhost:8080/"
        },
        "id": "tcnAmSuLbJXa",
        "outputId": "b2d6b0c4-85ad-4c16-ac18-1cbce1c81ae5"
      },
      "execution_count": null,
      "outputs": [
        {
          "output_type": "execute_result",
          "data": {
            "text/plain": [
              "{'Rahmanullah Gurbaz (AFG)': 282,\n",
              " 'RG Sharma (IND)': '257',\n",
              " 'TM Head (AUS)': '255',\n",
              " 'Q de Kock (SA)': '243',\n",
              " 'Ibrahim Zadran (AFG)': '231',\n",
              " 'N Pooran (WI)': '228',\n",
              " 'AGS Gous (USA)': '219',\n",
              " 'JC Buttler (ENG)': '214'}"
            ]
          },
          "metadata": {},
          "execution_count": 27
        }
      ]
    },
    {
      "cell_type": "code",
      "source": [
        "D1['RG Sharma (IND)']=300\n",
        "D1"
      ],
      "metadata": {
        "colab": {
          "base_uri": "https://localhost:8080/"
        },
        "id": "Cx4Io3XZcFuk",
        "outputId": "f9a97bbc-2eec-4fad-810c-84b24ba43142"
      },
      "execution_count": null,
      "outputs": [
        {
          "output_type": "execute_result",
          "data": {
            "text/plain": [
              "{'Rahmanullah Gurbaz (AFG)': 282,\n",
              " 'RG Sharma (IND)': 300,\n",
              " 'TM Head (AUS)': '255',\n",
              " 'Q de Kock (SA)': '243',\n",
              " 'Ibrahim Zadran (AFG)': '231',\n",
              " 'N Pooran (WI)': '228',\n",
              " 'AGS Gous (USA)': '219',\n",
              " 'JC Buttler (ENG)': '214'}"
            ]
          },
          "metadata": {},
          "execution_count": 28
        }
      ]
    },
    {
      "cell_type": "markdown",
      "source": [
        "## Add new item in dictionary"
      ],
      "metadata": {
        "id": "Kxgv0rRUcLl3"
      }
    },
    {
      "cell_type": "code",
      "source": [
        "D1['SA Yadav (IND)', 'H Klaasen (SA)'] = '199', '190'\n",
        "D1"
      ],
      "metadata": {
        "colab": {
          "base_uri": "https://localhost:8080/"
        },
        "id": "YIWXuA3ycUHK",
        "outputId": "33b238fa-9be2-4aa5-debe-3d8b116f1965"
      },
      "execution_count": null,
      "outputs": [
        {
          "output_type": "execute_result",
          "data": {
            "text/plain": [
              "{'Rahmanullah Gurbaz (AFG)': 282,\n",
              " 'RG Sharma (IND)': 300,\n",
              " 'TM Head (AUS)': '255',\n",
              " 'Q de Kock (SA)': '243',\n",
              " 'Ibrahim Zadran (AFG)': '231',\n",
              " 'N Pooran (WI)': '228',\n",
              " 'AGS Gous (USA)': '219',\n",
              " 'JC Buttler (ENG)': '214',\n",
              " ('SA Yadav (IND)', 'H Klaasen (SA)'): ('199', '190')}"
            ]
          },
          "metadata": {},
          "execution_count": 30
        }
      ]
    },
    {
      "cell_type": "markdown",
      "source": [
        "# Deleting items in dictionary"
      ],
      "metadata": {
        "id": "hoUFknvjfdMe"
      }
    },
    {
      "cell_type": "markdown",
      "source": [
        "## pop() - Removes the element with the specified key"
      ],
      "metadata": {
        "id": "b4FB2fJZfdrE"
      }
    },
    {
      "cell_type": "code",
      "source": [
        "D1.pop('Rahmanullah Gurbaz (AFG)')\n",
        "D1"
      ],
      "metadata": {
        "colab": {
          "base_uri": "https://localhost:8080/"
        },
        "id": "yVCb77S5fmGW",
        "outputId": "a223c3b4-5d14-43b0-b9aa-165065615dc6"
      },
      "execution_count": null,
      "outputs": [
        {
          "output_type": "execute_result",
          "data": {
            "text/plain": [
              "{'RG Sharma (IND)': 300,\n",
              " 'TM Head (AUS)': '255',\n",
              " 'Q de Kock (SA)': '243',\n",
              " 'Ibrahim Zadran (AFG)': '231',\n",
              " 'N Pooran (WI)': '228',\n",
              " 'AGS Gous (USA)': '219',\n",
              " 'JC Buttler (ENG)': '214',\n",
              " ('SA Yadav (IND)', 'H Klaasen (SA)'): ('199', '190')}"
            ]
          },
          "metadata": {},
          "execution_count": 41
        }
      ]
    },
    {
      "cell_type": "code",
      "source": [
        "D1.popitem()"
      ],
      "metadata": {
        "colab": {
          "base_uri": "https://localhost:8080/"
        },
        "id": "QPmG8lY2fulN",
        "outputId": "6d6afc5c-5a9d-4ce8-c474-7626e804ccee"
      },
      "execution_count": null,
      "outputs": [
        {
          "output_type": "execute_result",
          "data": {
            "text/plain": [
              "('JC Buttler (ENG)', '214')"
            ]
          },
          "metadata": {},
          "execution_count": 43
        }
      ]
    },
    {
      "cell_type": "markdown",
      "source": [
        "# Built-in Functions & Methods For Dictionary"
      ],
      "metadata": {
        "id": "7Pn32BZoeGaz"
      }
    },
    {
      "cell_type": "markdown",
      "source": [
        "## Dataset"
      ],
      "metadata": {
        "id": "dits1lT4hXVS"
      }
    },
    {
      "cell_type": "code",
      "source": [
        "D1"
      ],
      "metadata": {
        "colab": {
          "base_uri": "https://localhost:8080/"
        },
        "id": "KLTsF4TveONS",
        "outputId": "59ceda1e-1d05-423b-e34b-9e21d11a66f4"
      },
      "execution_count": null,
      "outputs": [
        {
          "output_type": "execute_result",
          "data": {
            "text/plain": [
              "{'RG Sharma (IND)': 300,\n",
              " 'TM Head (AUS)': '255',\n",
              " 'Q de Kock (SA)': '243',\n",
              " 'Ibrahim Zadran (AFG)': '231',\n",
              " 'N Pooran (WI)': '228',\n",
              " 'AGS Gous (USA)': '219'}"
            ]
          },
          "metadata": {},
          "execution_count": 45
        }
      ]
    },
    {
      "cell_type": "markdown",
      "source": [
        "## copy() - Returns a copy of the dictionary."
      ],
      "metadata": {
        "id": "27Fam45pgnI_"
      }
    },
    {
      "cell_type": "code",
      "source": [
        "D2=D1.copy()\n",
        "D2"
      ],
      "metadata": {
        "colab": {
          "base_uri": "https://localhost:8080/"
        },
        "id": "u7okR1rLeUll",
        "outputId": "fc71c98d-3997-4233-d400-c5f33757a69f"
      },
      "execution_count": null,
      "outputs": [
        {
          "output_type": "execute_result",
          "data": {
            "text/plain": [
              "{'Rahmanullah Gurbaz (AFG)': 282,\n",
              " 'RG Sharma (IND)': 300,\n",
              " 'TM Head (AUS)': '255',\n",
              " 'Q de Kock (SA)': '243',\n",
              " 'Ibrahim Zadran (AFG)': '231',\n",
              " 'N Pooran (WI)': '228',\n",
              " 'AGS Gous (USA)': '219',\n",
              " 'JC Buttler (ENG)': '214',\n",
              " ('SA Yadav (IND)', 'H Klaasen (SA)'): ('199', '190')}"
            ]
          },
          "metadata": {},
          "execution_count": 32
        }
      ]
    },
    {
      "cell_type": "markdown",
      "source": [
        "## keys() - Returns a list containing the dictionary's keys."
      ],
      "metadata": {
        "id": "et2ZQz5hgvgL"
      }
    },
    {
      "cell_type": "code",
      "source": [
        "D1.keys()"
      ],
      "metadata": {
        "colab": {
          "base_uri": "https://localhost:8080/"
        },
        "id": "F3BuutSWeYck",
        "outputId": "1bffffb9-adf7-47c1-8eae-8a3d6401a90e"
      },
      "execution_count": null,
      "outputs": [
        {
          "output_type": "execute_result",
          "data": {
            "text/plain": [
              "dict_keys(['Rahmanullah Gurbaz (AFG)', 'RG Sharma (IND)', 'TM Head (AUS)', 'Q de Kock (SA)', 'Ibrahim Zadran (AFG)', 'N Pooran (WI)', 'AGS Gous (USA)', 'JC Buttler (ENG)', ('SA Yadav (IND)', 'H Klaasen (SA)')])"
            ]
          },
          "metadata": {},
          "execution_count": 33
        }
      ]
    },
    {
      "cell_type": "markdown",
      "source": [
        "## values() - Returns a list containing the dictionary's values."
      ],
      "metadata": {
        "id": "fsdCbuArhBQ8"
      }
    },
    {
      "cell_type": "code",
      "source": [
        "D1.values()"
      ],
      "metadata": {
        "colab": {
          "base_uri": "https://localhost:8080/"
        },
        "id": "lLc7IiUDeixr",
        "outputId": "eefe3058-83bf-46dd-e2d4-69f5fab50fba"
      },
      "execution_count": null,
      "outputs": [
        {
          "output_type": "execute_result",
          "data": {
            "text/plain": [
              "dict_values([282, 300, '255', '243', '231', '228', '219', '214', ('199', '190')])"
            ]
          },
          "metadata": {},
          "execution_count": 34
        }
      ]
    },
    {
      "cell_type": "markdown",
      "source": [
        "## item() - Returns a list containing the tuple for each key value pair."
      ],
      "metadata": {
        "id": "iKaZFLvqg-pH"
      }
    },
    {
      "cell_type": "code",
      "source": [
        "for i in D1.items():\n",
        "    print(i)"
      ],
      "metadata": {
        "colab": {
          "base_uri": "https://localhost:8080/"
        },
        "id": "Tv_WgNnrexJu",
        "outputId": "9e23d231-9ac8-4454-fe8e-9930f29f76df"
      },
      "execution_count": null,
      "outputs": [
        {
          "output_type": "stream",
          "name": "stdout",
          "text": [
            "('Rahmanullah Gurbaz (AFG)', 282)\n",
            "('RG Sharma (IND)', 300)\n",
            "('TM Head (AUS)', '255')\n",
            "('Q de Kock (SA)', '243')\n",
            "('Ibrahim Zadran (AFG)', '231')\n",
            "('N Pooran (WI)', '228')\n",
            "('AGS Gous (USA)', '219')\n",
            "('JC Buttler (ENG)', '214')\n",
            "(('SA Yadav (IND)', 'H Klaasen (SA)'), ('199', '190'))\n"
          ]
        }
      ]
    },
    {
      "cell_type": "markdown",
      "source": [
        "## len() - Returns the length of the dictionary."
      ],
      "metadata": {
        "id": "CktRFLx1hfaZ"
      }
    },
    {
      "cell_type": "code",
      "source": [
        "len(D1)"
      ],
      "metadata": {
        "colab": {
          "base_uri": "https://localhost:8080/"
        },
        "id": "PA3_0vbQhmlt",
        "outputId": "f7c560ee-32ca-4e95-a22d-901f3cfec006"
      },
      "execution_count": null,
      "outputs": [
        {
          "output_type": "execute_result",
          "data": {
            "text/plain": [
              "6"
            ]
          },
          "metadata": {},
          "execution_count": 46
        }
      ]
    }
  ]
}